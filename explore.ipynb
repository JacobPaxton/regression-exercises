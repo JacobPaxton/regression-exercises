{
 "cells": [
  {
   "cell_type": "markdown",
   "id": "4234e7ee",
   "metadata": {},
   "source": [
    "# Telco\n",
    "Our Telco scenario continues:\n",
    "\n",
    "As a customer analyst for Telco, **you want to know who has spent the most money with the company over their lifetime.** You have monthly charges and tenure, so you think you will be able to use those two attributes as features to estimate total charges. You need to do this within an average of $5.00 per customer.\n",
    "\n",
    "In these exercises, you will run through the stages of exploration as you continue to work toward the above goal.\n",
    "\n",
    "Do your work in a notebook named **explore.ipynb**. In addition, you should create a file named **explore.py** that contains the following functions for exploring your variables (features & target)."
   ]
  },
  {
   "cell_type": "code",
   "execution_count": 1,
   "id": "ade3e1a1",
   "metadata": {},
   "outputs": [],
   "source": [
    "import warnings\n",
    "warnings.filterwarnings(\"ignore\")\n",
    "\n",
    "import pandas as pd\n",
    "import seaborn as sns\n",
    "import matplotlib.pyplot as plt\n",
    "\n",
    "from sklearn.model_selection import train_test_split\n",
    "\n",
    "from env import get_db_url"
   ]
  },
  {
   "cell_type": "code",
   "execution_count": 2,
   "id": "fe5375ae",
   "metadata": {},
   "outputs": [],
   "source": [
    "url = get_db_url(db_name='telco_churn')"
   ]
  },
  {
   "cell_type": "code",
   "execution_count": 3,
   "id": "dd55506a",
   "metadata": {},
   "outputs": [],
   "source": [
    "query = \"\"\"\n",
    "            SELECT customer_id, tenure, monthly_charges, total_charges, tech_support\n",
    "            FROM customers\n",
    "        \"\"\""
   ]
  },
  {
   "cell_type": "code",
   "execution_count": 4,
   "id": "54213ccc",
   "metadata": {},
   "outputs": [
    {
     "data": {
      "text/html": [
       "<div>\n",
       "<style scoped>\n",
       "    .dataframe tbody tr th:only-of-type {\n",
       "        vertical-align: middle;\n",
       "    }\n",
       "\n",
       "    .dataframe tbody tr th {\n",
       "        vertical-align: top;\n",
       "    }\n",
       "\n",
       "    .dataframe thead th {\n",
       "        text-align: right;\n",
       "    }\n",
       "</style>\n",
       "<table border=\"1\" class=\"dataframe\">\n",
       "  <thead>\n",
       "    <tr style=\"text-align: right;\">\n",
       "      <th></th>\n",
       "      <th>customer_id</th>\n",
       "      <th>tenure</th>\n",
       "      <th>monthly_charges</th>\n",
       "      <th>total_charges</th>\n",
       "      <th>tech_support</th>\n",
       "    </tr>\n",
       "  </thead>\n",
       "  <tbody>\n",
       "    <tr>\n",
       "      <th>0</th>\n",
       "      <td>0002-ORFBO</td>\n",
       "      <td>9</td>\n",
       "      <td>65.6</td>\n",
       "      <td>593.3</td>\n",
       "      <td>Yes</td>\n",
       "    </tr>\n",
       "    <tr>\n",
       "      <th>1</th>\n",
       "      <td>0003-MKNFE</td>\n",
       "      <td>9</td>\n",
       "      <td>59.9</td>\n",
       "      <td>542.4</td>\n",
       "      <td>No</td>\n",
       "    </tr>\n",
       "    <tr>\n",
       "      <th>2</th>\n",
       "      <td>0004-TLHLJ</td>\n",
       "      <td>4</td>\n",
       "      <td>73.9</td>\n",
       "      <td>280.85</td>\n",
       "      <td>No</td>\n",
       "    </tr>\n",
       "  </tbody>\n",
       "</table>\n",
       "</div>"
      ],
      "text/plain": [
       "  customer_id  tenure  monthly_charges total_charges tech_support\n",
       "0  0002-ORFBO       9             65.6         593.3          Yes\n",
       "1  0003-MKNFE       9             59.9         542.4           No\n",
       "2  0004-TLHLJ       4             73.9        280.85           No"
      ]
     },
     "execution_count": 4,
     "metadata": {},
     "output_type": "execute_result"
    }
   ],
   "source": [
    "df = pd.read_sql(query, url)\n",
    "df.head(3)"
   ]
  },
  {
   "cell_type": "code",
   "execution_count": 5,
   "id": "ebe2c328",
   "metadata": {},
   "outputs": [
    {
     "name": "stdout",
     "output_type": "stream",
     "text": [
      "<class 'pandas.core.frame.DataFrame'>\n",
      "RangeIndex: 7043 entries, 0 to 7042\n",
      "Data columns (total 5 columns):\n",
      " #   Column           Non-Null Count  Dtype  \n",
      "---  ------           --------------  -----  \n",
      " 0   customer_id      7043 non-null   object \n",
      " 1   tenure           7043 non-null   int64  \n",
      " 2   monthly_charges  7043 non-null   float64\n",
      " 3   total_charges    7043 non-null   object \n",
      " 4   tech_support     7043 non-null   object \n",
      "dtypes: float64(1), int64(1), object(3)\n",
      "memory usage: 275.2+ KB\n"
     ]
    }
   ],
   "source": [
    "df.info()"
   ]
  },
  {
   "cell_type": "code",
   "execution_count": 6,
   "id": "859bd30f",
   "metadata": {},
   "outputs": [
    {
     "data": {
      "text/plain": [
       "total_charges\n",
       "          11\n",
       "100.2      1\n",
       "100.25     1\n",
       "100.35     1\n",
       "100.4      1\n",
       "          ..\n",
       "997.75     1\n",
       "998.1      1\n",
       "999.45     1\n",
       "999.8      1\n",
       "999.9      1\n",
       "Name: total_charges, Length: 6531, dtype: int64"
      ]
     },
     "execution_count": 6,
     "metadata": {},
     "output_type": "execute_result"
    }
   ],
   "source": [
    "df.groupby('total_charges').total_charges.count()"
   ]
  },
  {
   "cell_type": "code",
   "execution_count": 7,
   "id": "687038b8",
   "metadata": {},
   "outputs": [
    {
     "data": {
      "text/html": [
       "<div>\n",
       "<style scoped>\n",
       "    .dataframe tbody tr th:only-of-type {\n",
       "        vertical-align: middle;\n",
       "    }\n",
       "\n",
       "    .dataframe tbody tr th {\n",
       "        vertical-align: top;\n",
       "    }\n",
       "\n",
       "    .dataframe thead th {\n",
       "        text-align: right;\n",
       "    }\n",
       "</style>\n",
       "<table border=\"1\" class=\"dataframe\">\n",
       "  <thead>\n",
       "    <tr style=\"text-align: right;\">\n",
       "      <th></th>\n",
       "      <th>customer_id</th>\n",
       "      <th>tenure</th>\n",
       "      <th>monthly_charges</th>\n",
       "      <th>total_charges</th>\n",
       "      <th>tech_support</th>\n",
       "    </tr>\n",
       "  </thead>\n",
       "  <tbody>\n",
       "    <tr>\n",
       "      <th>945</th>\n",
       "      <td>1371-DWPAZ</td>\n",
       "      <td>0</td>\n",
       "      <td>56.05</td>\n",
       "      <td></td>\n",
       "      <td>Yes</td>\n",
       "    </tr>\n",
       "    <tr>\n",
       "      <th>1731</th>\n",
       "      <td>2520-SGTTA</td>\n",
       "      <td>0</td>\n",
       "      <td>20.00</td>\n",
       "      <td></td>\n",
       "      <td>No internet service</td>\n",
       "    </tr>\n",
       "    <tr>\n",
       "      <th>1906</th>\n",
       "      <td>2775-SEFEE</td>\n",
       "      <td>0</td>\n",
       "      <td>61.90</td>\n",
       "      <td></td>\n",
       "      <td>Yes</td>\n",
       "    </tr>\n",
       "    <tr>\n",
       "      <th>2025</th>\n",
       "      <td>2923-ARZLG</td>\n",
       "      <td>0</td>\n",
       "      <td>19.70</td>\n",
       "      <td></td>\n",
       "      <td>No internet service</td>\n",
       "    </tr>\n",
       "    <tr>\n",
       "      <th>2176</th>\n",
       "      <td>3115-CZMZD</td>\n",
       "      <td>0</td>\n",
       "      <td>20.25</td>\n",
       "      <td></td>\n",
       "      <td>No internet service</td>\n",
       "    </tr>\n",
       "    <tr>\n",
       "      <th>2250</th>\n",
       "      <td>3213-VVOLG</td>\n",
       "      <td>0</td>\n",
       "      <td>25.35</td>\n",
       "      <td></td>\n",
       "      <td>No internet service</td>\n",
       "    </tr>\n",
       "    <tr>\n",
       "      <th>2855</th>\n",
       "      <td>4075-WKNIU</td>\n",
       "      <td>0</td>\n",
       "      <td>73.35</td>\n",
       "      <td></td>\n",
       "      <td>Yes</td>\n",
       "    </tr>\n",
       "    <tr>\n",
       "      <th>3052</th>\n",
       "      <td>4367-NUYAO</td>\n",
       "      <td>0</td>\n",
       "      <td>25.75</td>\n",
       "      <td></td>\n",
       "      <td>No internet service</td>\n",
       "    </tr>\n",
       "    <tr>\n",
       "      <th>3118</th>\n",
       "      <td>4472-LVYGI</td>\n",
       "      <td>0</td>\n",
       "      <td>52.55</td>\n",
       "      <td></td>\n",
       "      <td>Yes</td>\n",
       "    </tr>\n",
       "    <tr>\n",
       "      <th>4054</th>\n",
       "      <td>5709-LVOEQ</td>\n",
       "      <td>0</td>\n",
       "      <td>80.85</td>\n",
       "      <td></td>\n",
       "      <td>No</td>\n",
       "    </tr>\n",
       "    <tr>\n",
       "      <th>5433</th>\n",
       "      <td>7644-OMVMY</td>\n",
       "      <td>0</td>\n",
       "      <td>19.85</td>\n",
       "      <td></td>\n",
       "      <td>No internet service</td>\n",
       "    </tr>\n",
       "  </tbody>\n",
       "</table>\n",
       "</div>"
      ],
      "text/plain": [
       "     customer_id  tenure  monthly_charges total_charges         tech_support\n",
       "945   1371-DWPAZ       0            56.05                                Yes\n",
       "1731  2520-SGTTA       0            20.00                No internet service\n",
       "1906  2775-SEFEE       0            61.90                                Yes\n",
       "2025  2923-ARZLG       0            19.70                No internet service\n",
       "2176  3115-CZMZD       0            20.25                No internet service\n",
       "2250  3213-VVOLG       0            25.35                No internet service\n",
       "2855  4075-WKNIU       0            73.35                                Yes\n",
       "3052  4367-NUYAO       0            25.75                No internet service\n",
       "3118  4472-LVYGI       0            52.55                                Yes\n",
       "4054  5709-LVOEQ       0            80.85                                 No\n",
       "5433  7644-OMVMY       0            19.85                No internet service"
      ]
     },
     "execution_count": 7,
     "metadata": {},
     "output_type": "execute_result"
    }
   ],
   "source": [
    "df[df.tenure == 0]"
   ]
  },
  {
   "cell_type": "code",
   "execution_count": 8,
   "id": "2889e3a2",
   "metadata": {},
   "outputs": [
    {
     "name": "stdout",
     "output_type": "stream",
     "text": [
      "(7043, 5)\n",
      "(7032, 5)\n"
     ]
    }
   ],
   "source": [
    "print(df.shape)\n",
    "df = df[df.tenure > 0]\n",
    "print(df.shape)"
   ]
  },
  {
   "cell_type": "code",
   "execution_count": 9,
   "id": "164eb58d",
   "metadata": {},
   "outputs": [
    {
     "name": "stdout",
     "output_type": "stream",
     "text": [
      "<class 'pandas.core.frame.DataFrame'>\n",
      "Int64Index: 7032 entries, 0 to 7042\n",
      "Data columns (total 5 columns):\n",
      " #   Column           Non-Null Count  Dtype  \n",
      "---  ------           --------------  -----  \n",
      " 0   customer_id      7032 non-null   object \n",
      " 1   tenure           7032 non-null   int64  \n",
      " 2   monthly_charges  7032 non-null   float64\n",
      " 3   total_charges    7032 non-null   float64\n",
      " 4   tech_support     7032 non-null   object \n",
      "dtypes: float64(2), int64(1), object(2)\n",
      "memory usage: 329.6+ KB\n"
     ]
    }
   ],
   "source": [
    "df['total_charges'] = df.total_charges.astype('float64')\n",
    "df.info()"
   ]
  },
  {
   "cell_type": "markdown",
   "id": "31b9b537",
   "metadata": {},
   "source": [
    "1. Make sure to perform a train, validate, test split before and use only your train dataset to explore the relationships between independent variables with other independent variables or independent variables with your target variable."
   ]
  },
  {
   "cell_type": "code",
   "execution_count": 10,
   "id": "23276fc3",
   "metadata": {},
   "outputs": [
    {
     "data": {
      "text/plain": [
       "((4500, 5), (1125, 5), (1407, 5))"
      ]
     },
     "execution_count": 10,
     "metadata": {},
     "output_type": "execute_result"
    }
   ],
   "source": [
    "train_validate, test = train_test_split(df, test_size=0.2, random_state=123)\n",
    "train, validate = train_test_split(train_validate, test_size=0.2, random_state=123)\n",
    "\n",
    "train.shape, validate.shape, test.shape"
   ]
  },
  {
   "cell_type": "markdown",
   "id": "cad1221b",
   "metadata": {},
   "source": [
    "2. Write a function named plot_variable_pairs that accepts a dataframe as input and plots all of the pairwise relationships along with the regression line for each pair."
   ]
  },
  {
   "cell_type": "code",
   "execution_count": 11,
   "id": "40e85459",
   "metadata": {},
   "outputs": [],
   "source": [
    "# def plot_variable_pairs(df):\n",
    "#     sns.pairplot(train, kind=\"reg\", plot_kws={'line_kws':{'color':'red'}})"
   ]
  },
  {
   "cell_type": "markdown",
   "id": "65ffdebe",
   "metadata": {},
   "source": [
    "3. Write a function named months_to_years that accepts your telco churn dataframe and returns a dataframe with a new feature tenure_years, in complete years as a customer."
   ]
  },
  {
   "cell_type": "code",
   "execution_count": 12,
   "id": "0977a579",
   "metadata": {},
   "outputs": [],
   "source": [
    "# def months_to_years(df):\n",
    "#     df['tenure_years'] = df.tenure / 12\n",
    "#     df['tenure_years'] = df.tenure_years.astype('int64')\n",
    "#     return df"
   ]
  },
  {
   "cell_type": "markdown",
   "id": "511c4bac",
   "metadata": {},
   "source": [
    "4. Write a function named plot_categorical_and_continuous_vars that accepts your dataframe and the name of the columns that hold the continuous and categorical features and outputs 3 different plots for visualizing a categorical variable and a continuous variable."
   ]
  },
  {
   "cell_type": "code",
   "execution_count": 13,
   "id": "1bf83be4",
   "metadata": {},
   "outputs": [],
   "source": [
    "cats = ['tech_support']\n",
    "cat = 'tech_support'\n",
    "conts = ['tenure', 'monthly_charges']\n",
    "\n",
    "# def plot_categorical_and_continuous_vars(df, cats, conts):\n",
    "#     for cat in cats:\n",
    "#         print(\"| -----------------\", cat, \"----------------- |\")\n",
    "#         plt.hist(df[cat])\n",
    "#         plt.show()\n",
    "#         for cont in conts:\n",
    "#             sns.boxplot(data=df, x=cat, y=cont)\n",
    "#             plt.show()"
   ]
  },
  {
   "cell_type": "markdown",
   "id": "8d58274b",
   "metadata": {},
   "source": [
    "5. Save the functions you have written to create visualizations in your explore.py file. Rewrite your notebook code so that you are using the functions imported from this file."
   ]
  },
  {
   "cell_type": "code",
   "execution_count": 14,
   "id": "2cc94637",
   "metadata": {},
   "outputs": [],
   "source": [
    "import explore"
   ]
  },
  {
   "cell_type": "code",
   "execution_count": 15,
   "id": "642f6e9b",
   "metadata": {},
   "outputs": [
    {
     "data": {
      "image/png": "[encoded data removed]",
      "text/plain": [
       "<Figure size 540x540 with 12 Axes>"
      ]
     },
     "metadata": {
      "needs_background": "light"
     },
     "output_type": "display_data"
    }
   ],
   "source": [
    "explore.plot_variable_pairs(train)"
   ]
  },
  {
   "cell_type": "code",
   "execution_count": 16,
   "id": "e91c7b85",
   "metadata": {},
   "outputs": [
    {
     "data": {
      "text/html": [
       "<div>\n",
       "<style scoped>\n",
       "    .dataframe tbody tr th:only-of-type {\n",
       "        vertical-align: middle;\n",
       "    }\n",
       "\n",
       "    .dataframe tbody tr th {\n",
       "        vertical-align: top;\n",
       "    }\n",
       "\n",
       "    .dataframe thead th {\n",
       "        text-align: right;\n",
       "    }\n",
       "</style>\n",
       "<table border=\"1\" class=\"dataframe\">\n",
       "  <thead>\n",
       "    <tr style=\"text-align: right;\">\n",
       "      <th></th>\n",
       "      <th>customer_id</th>\n",
       "      <th>tenure</th>\n",
       "      <th>monthly_charges</th>\n",
       "      <th>total_charges</th>\n",
       "      <th>tech_support</th>\n",
       "      <th>tenure_years</th>\n",
       "    </tr>\n",
       "  </thead>\n",
       "  <tbody>\n",
       "    <tr>\n",
       "      <th>3221</th>\n",
       "      <td>4619-EVPHY</td>\n",
       "      <td>20</td>\n",
       "      <td>91.00</td>\n",
       "      <td>1859.50</td>\n",
       "      <td>No</td>\n",
       "      <td>1</td>\n",
       "    </tr>\n",
       "    <tr>\n",
       "      <th>3076</th>\n",
       "      <td>4402-FTBXC</td>\n",
       "      <td>54</td>\n",
       "      <td>89.80</td>\n",
       "      <td>4667.00</td>\n",
       "      <td>No</td>\n",
       "      <td>4</td>\n",
       "    </tr>\n",
       "    <tr>\n",
       "      <th>4825</th>\n",
       "      <td>6789-HJBWG</td>\n",
       "      <td>12</td>\n",
       "      <td>49.40</td>\n",
       "      <td>611.65</td>\n",
       "      <td>No</td>\n",
       "      <td>1</td>\n",
       "    </tr>\n",
       "    <tr>\n",
       "      <th>5571</th>\n",
       "      <td>7851-FLGGQ</td>\n",
       "      <td>1</td>\n",
       "      <td>44.65</td>\n",
       "      <td>44.65</td>\n",
       "      <td>Yes</td>\n",
       "      <td>0</td>\n",
       "    </tr>\n",
       "    <tr>\n",
       "      <th>6967</th>\n",
       "      <td>9885-MFVSU</td>\n",
       "      <td>35</td>\n",
       "      <td>46.35</td>\n",
       "      <td>1662.05</td>\n",
       "      <td>Yes</td>\n",
       "      <td>2</td>\n",
       "    </tr>\n",
       "    <tr>\n",
       "      <th>...</th>\n",
       "      <td>...</td>\n",
       "      <td>...</td>\n",
       "      <td>...</td>\n",
       "      <td>...</td>\n",
       "      <td>...</td>\n",
       "      <td>...</td>\n",
       "    </tr>\n",
       "    <tr>\n",
       "      <th>3209</th>\n",
       "      <td>4598-ZADCK</td>\n",
       "      <td>53</td>\n",
       "      <td>53.60</td>\n",
       "      <td>2879.20</td>\n",
       "      <td>Yes</td>\n",
       "      <td>4</td>\n",
       "    </tr>\n",
       "    <tr>\n",
       "      <th>4256</th>\n",
       "      <td>5996-DAOQL</td>\n",
       "      <td>1</td>\n",
       "      <td>20.45</td>\n",
       "      <td>20.45</td>\n",
       "      <td>No internet service</td>\n",
       "      <td>0</td>\n",
       "    </tr>\n",
       "    <tr>\n",
       "      <th>2523</th>\n",
       "      <td>3606-TWKGI</td>\n",
       "      <td>13</td>\n",
       "      <td>106.90</td>\n",
       "      <td>1364.30</td>\n",
       "      <td>No</td>\n",
       "      <td>1</td>\n",
       "    </tr>\n",
       "    <tr>\n",
       "      <th>6241</th>\n",
       "      <td>8821-XNHVZ</td>\n",
       "      <td>1</td>\n",
       "      <td>80.05</td>\n",
       "      <td>80.05</td>\n",
       "      <td>No</td>\n",
       "      <td>0</td>\n",
       "    </tr>\n",
       "    <tr>\n",
       "      <th>6337</th>\n",
       "      <td>8974-OVACP</td>\n",
       "      <td>1</td>\n",
       "      <td>20.15</td>\n",
       "      <td>20.15</td>\n",
       "      <td>No internet service</td>\n",
       "      <td>0</td>\n",
       "    </tr>\n",
       "  </tbody>\n",
       "</table>\n",
       "<p>4500 rows × 6 columns</p>\n",
       "</div>"
      ],
      "text/plain": [
       "     customer_id  tenure  monthly_charges  total_charges         tech_support  \\\n",
       "3221  4619-EVPHY      20            91.00        1859.50                   No   \n",
       "3076  4402-FTBXC      54            89.80        4667.00                   No   \n",
       "4825  6789-HJBWG      12            49.40         611.65                   No   \n",
       "5571  7851-FLGGQ       1            44.65          44.65                  Yes   \n",
       "6967  9885-MFVSU      35            46.35        1662.05                  Yes   \n",
       "...          ...     ...              ...            ...                  ...   \n",
       "3209  4598-ZADCK      53            53.60        2879.20                  Yes   \n",
       "4256  5996-DAOQL       1            20.45          20.45  No internet service   \n",
       "2523  3606-TWKGI      13           106.90        1364.30                   No   \n",
       "6241  8821-XNHVZ       1            80.05          80.05                   No   \n",
       "6337  8974-OVACP       1            20.15          20.15  No internet service   \n",
       "\n",
       "      tenure_years  \n",
       "3221             1  \n",
       "3076             4  \n",
       "4825             1  \n",
       "5571             0  \n",
       "6967             2  \n",
       "...            ...  \n",
       "3209             4  \n",
       "4256             0  \n",
       "2523             1  \n",
       "6241             0  \n",
       "6337             0  \n",
       "\n",
       "[4500 rows x 6 columns]"
      ]
     },
     "execution_count": 16,
     "metadata": {},
     "output_type": "execute_result"
    }
   ],
   "source": [
    "explore.months_to_years(train)"
   ]
  },
  {
   "cell_type": "code",
   "execution_count": 17,
   "id": "3a775df3",
   "metadata": {},
   "outputs": [
    {
     "name": "stdout",
     "output_type": "stream",
     "text": [
      "| ----------------- tech_support ----------------- |\n"
     ]
    },
    {
     "data": {
      "image/png": "[encoded data removed]",
      "text/plain": [
       "<Figure size 432x288 with 1 Axes>"
      ]
     },
     "metadata": {
      "needs_background": "light"
     },
     "output_type": "display_data"
    },
    {
     "data": {
      "image/png": "[encoded data removed]",
      "text/plain": [
       "<Figure size 432x288 with 1 Axes>"
      ]
     },
     "metadata": {
      "needs_background": "light"
     },
     "output_type": "display_data"
    },
    {
     "data": {
      "image/png": "[encoded data removed]",
      "text/plain": [
       "<Figure size 432x288 with 1 Axes>"
      ]
     },
     "metadata": {
      "needs_background": "light"
     },
     "output_type": "display_data"
    }
   ],
   "source": [
    "explore.plot_categorical_and_continuous_vars(train, cats, conts)"
   ]
  },
  {
   "cell_type": "markdown",
   "id": "c3ebcc7a",
   "metadata": {},
   "source": [
    "6. Explore your dataset with any other visualizations you think will be helpful.\n",
    "    * If the problem is finding customers with highest lifetime costs, and with tenure and monthly_charges data, **you don't really need to use other visualizations** unless you want to find what is driving costs up and down (which is a different question)."
   ]
  },
  {
   "cell_type": "markdown",
   "id": "48f1f356",
   "metadata": {},
   "source": [
    "7. In a seperate notebook, use the functions you have developed in this exercise with the mall_customers dataset in the Codeup database server. You will need to write a sql query to acquire your data. Make spending_score your target variable.\n",
    "    * I will just use this notebook and rewrite all code to accomplish this task."
   ]
  },
  {
   "cell_type": "code",
   "execution_count": 18,
   "id": "ab8f7412",
   "metadata": {},
   "outputs": [],
   "source": [
    "import warnings\n",
    "warnings.filterwarnings(\"ignore\")\n",
    "\n",
    "import pandas as pd\n",
    "\n",
    "from sklearn.model_selection import train_test_split\n",
    "\n",
    "import explore\n",
    "import env\n",
    "\n",
    "url = env.get_db_url(db_name='mall_customers')"
   ]
  },
  {
   "cell_type": "code",
   "execution_count": 19,
   "id": "df180f75",
   "metadata": {},
   "outputs": [],
   "source": [
    "query = 'SELECT * FROM customers'"
   ]
  },
  {
   "cell_type": "code",
   "execution_count": 20,
   "id": "cf01a53b",
   "metadata": {},
   "outputs": [
    {
     "data": {
      "text/html": [
       "<div>\n",
       "<style scoped>\n",
       "    .dataframe tbody tr th:only-of-type {\n",
       "        vertical-align: middle;\n",
       "    }\n",
       "\n",
       "    .dataframe tbody tr th {\n",
       "        vertical-align: top;\n",
       "    }\n",
       "\n",
       "    .dataframe thead th {\n",
       "        text-align: right;\n",
       "    }\n",
       "</style>\n",
       "<table border=\"1\" class=\"dataframe\">\n",
       "  <thead>\n",
       "    <tr style=\"text-align: right;\">\n",
       "      <th></th>\n",
       "      <th>customer_id</th>\n",
       "      <th>gender</th>\n",
       "      <th>age</th>\n",
       "      <th>annual_income</th>\n",
       "      <th>spending_score</th>\n",
       "    </tr>\n",
       "  </thead>\n",
       "  <tbody>\n",
       "    <tr>\n",
       "      <th>0</th>\n",
       "      <td>1</td>\n",
       "      <td>Male</td>\n",
       "      <td>19</td>\n",
       "      <td>15</td>\n",
       "      <td>39</td>\n",
       "    </tr>\n",
       "    <tr>\n",
       "      <th>1</th>\n",
       "      <td>2</td>\n",
       "      <td>Male</td>\n",
       "      <td>21</td>\n",
       "      <td>15</td>\n",
       "      <td>81</td>\n",
       "    </tr>\n",
       "    <tr>\n",
       "      <th>2</th>\n",
       "      <td>3</td>\n",
       "      <td>Female</td>\n",
       "      <td>20</td>\n",
       "      <td>16</td>\n",
       "      <td>6</td>\n",
       "    </tr>\n",
       "  </tbody>\n",
       "</table>\n",
       "</div>"
      ],
      "text/plain": [
       "   customer_id  gender  age  annual_income  spending_score\n",
       "0            1    Male   19             15              39\n",
       "1            2    Male   21             15              81\n",
       "2            3  Female   20             16               6"
      ]
     },
     "execution_count": 20,
     "metadata": {},
     "output_type": "execute_result"
    }
   ],
   "source": [
    "df = pd.read_sql(query, url)\n",
    "df.head(3)"
   ]
  },
  {
   "cell_type": "code",
   "execution_count": 21,
   "id": "9e601602",
   "metadata": {},
   "outputs": [
    {
     "name": "stdout",
     "output_type": "stream",
     "text": [
      "<class 'pandas.core.frame.DataFrame'>\n",
      "RangeIndex: 200 entries, 0 to 199\n",
      "Data columns (total 5 columns):\n",
      " #   Column          Non-Null Count  Dtype \n",
      "---  ------          --------------  ----- \n",
      " 0   customer_id     200 non-null    int64 \n",
      " 1   gender          200 non-null    object\n",
      " 2   age             200 non-null    int64 \n",
      " 3   annual_income   200 non-null    int64 \n",
      " 4   spending_score  200 non-null    int64 \n",
      "dtypes: int64(4), object(1)\n",
      "memory usage: 7.9+ KB\n"
     ]
    }
   ],
   "source": [
    "df.info()"
   ]
  },
  {
   "cell_type": "code",
   "execution_count": 22,
   "id": "6f5781b4",
   "metadata": {},
   "outputs": [],
   "source": [
    "df['customer_id'] = df['customer_id'].astype('object')"
   ]
  },
  {
   "cell_type": "code",
   "execution_count": 23,
   "id": "74c18196",
   "metadata": {},
   "outputs": [
    {
     "data": {
      "text/plain": [
       "1    200\n",
       "Name: customer_id, dtype: int64"
      ]
     },
     "execution_count": 23,
     "metadata": {},
     "output_type": "execute_result"
    }
   ],
   "source": [
    "df.customer_id.value_counts().value_counts()"
   ]
  },
  {
   "cell_type": "code",
   "execution_count": 24,
   "id": "55aee505",
   "metadata": {},
   "outputs": [
    {
     "data": {
      "text/plain": [
       "((128, 5), (32, 5), (40, 5))"
      ]
     },
     "execution_count": 24,
     "metadata": {},
     "output_type": "execute_result"
    }
   ],
   "source": [
    "train_validate, test = train_test_split(df, test_size=0.2, random_state=123)\n",
    "train, validate = train_test_split(train_validate, test_size=0.2, random_state=123)\n",
    "\n",
    "train.shape, validate.shape, test.shape"
   ]
  },
  {
   "cell_type": "code",
   "execution_count": 25,
   "id": "ec69ecd8",
   "metadata": {},
   "outputs": [
    {
     "data": {
      "image/png": "[encoded data removed]",
      "text/plain": [
       "<Figure size 540x540 with 12 Axes>"
      ]
     },
     "metadata": {
      "needs_background": "light"
     },
     "output_type": "display_data"
    }
   ],
   "source": [
    "explore.plot_variable_pairs(train.drop(columns='customer_id'))"
   ]
  },
  {
   "cell_type": "code",
   "execution_count": 26,
   "id": "c2bcdf54",
   "metadata": {},
   "outputs": [],
   "source": [
    "cats = ['gender']\n",
    "conts = ['age', 'annual_income', 'spending_score']"
   ]
  },
  {
   "cell_type": "code",
   "execution_count": 27,
   "id": "028188d6",
   "metadata": {},
   "outputs": [
    {
     "name": "stdout",
     "output_type": "stream",
     "text": [
      "| ----------------- gender ----------------- |\n"
     ]
    },
    {
     "data": {
      "image/png": "[encoded data removed]",
      "text/plain": [
       "<Figure size 432x288 with 1 Axes>"
      ]
     },
     "metadata": {
      "needs_background": "light"
     },
     "output_type": "display_data"
    },
    {
     "data": {
      "image/png": "[encoded data removed]",
      "text/plain": [
       "<Figure size 432x288 with 1 Axes>"
      ]
     },
     "metadata": {
      "needs_background": "light"
     },
     "output_type": "display_data"
    },
    {
     "data": {
      "image/png": "[encoded data removed]",
      "text/plain": [
       "<Figure size 432x288 with 1 Axes>"
      ]
     },
     "metadata": {
      "needs_background": "light"
     },
     "output_type": "display_data"
    },
    {
     "data": {
      "image/png": "[encoded data removed]",
      "text/plain": [
       "<Figure size 432x288 with 1 Axes>"
      ]
     },
     "metadata": {
      "needs_background": "light"
     },
     "output_type": "display_data"
    }
   ],
   "source": [
    "explore.plot_categorical_and_continuous_vars(train, cats, conts)"
   ]
  },
  {
   "cell_type": "markdown",
   "id": "7f9fabfd",
   "metadata": {},
   "source": [
    "# Zillow\n",
    "Our Zillow scenario continues:\n",
    "\n",
    "As a Codeup data science graduate, you want to show off your skills to the Zillow data science team in hopes of getting an interview for a position you saw pop up on LinkedIn. You thought it might look impressive to build an end-to-end project in which you use some of their Kaggle data to predict property values using some of their available features; who knows, you might even do some feature engineering to blow them away. Your goal is to **predict the values of single unit properties using the observations from 2017.**\n",
    "\n",
    "In these exercises, you will run through the stages of exploration as you continue to work toward the above goal."
   ]
  },
  {
   "cell_type": "code",
   "execution_count": 28,
   "id": "adbe280c",
   "metadata": {},
   "outputs": [],
   "source": [
    "import warnings\n",
    "warnings.filterwarnings('ignore')\n",
    "\n",
    "import pandas as pd\n",
    "import seaborn as sns\n",
    "import matplotlib.pyplot as plt\n",
    "\n",
    "from sklearn.model_selection import train_test_split\n",
    "from scipy import stats\n",
    "\n",
    "from wrangle import wrangle_zillow\n",
    "import explore\n",
    "import env"
   ]
  },
  {
   "cell_type": "code",
   "execution_count": 29,
   "id": "d2263d5b",
   "metadata": {},
   "outputs": [
    {
     "data": {
      "text/html": [
       "<div>\n",
       "<style scoped>\n",
       "    .dataframe tbody tr th:only-of-type {\n",
       "        vertical-align: middle;\n",
       "    }\n",
       "\n",
       "    .dataframe tbody tr th {\n",
       "        vertical-align: top;\n",
       "    }\n",
       "\n",
       "    .dataframe thead th {\n",
       "        text-align: right;\n",
       "    }\n",
       "</style>\n",
       "<table border=\"1\" class=\"dataframe\">\n",
       "  <thead>\n",
       "    <tr style=\"text-align: right;\">\n",
       "      <th></th>\n",
       "      <th>beds</th>\n",
       "      <th>baths</th>\n",
       "      <th>area</th>\n",
       "      <th>worth</th>\n",
       "      <th>built</th>\n",
       "      <th>tax</th>\n",
       "      <th>locality</th>\n",
       "    </tr>\n",
       "  </thead>\n",
       "  <tbody>\n",
       "    <tr>\n",
       "      <th>7</th>\n",
       "      <td>3</td>\n",
       "      <td>2</td>\n",
       "      <td>2077</td>\n",
       "      <td>646760</td>\n",
       "      <td>1926</td>\n",
       "      <td>7924.68</td>\n",
       "      <td>06037</td>\n",
       "    </tr>\n",
       "    <tr>\n",
       "      <th>18</th>\n",
       "      <td>3</td>\n",
       "      <td>1</td>\n",
       "      <td>1244</td>\n",
       "      <td>169471</td>\n",
       "      <td>1950</td>\n",
       "      <td>2532.88</td>\n",
       "      <td>06037</td>\n",
       "    </tr>\n",
       "    <tr>\n",
       "      <th>19</th>\n",
       "      <td>3</td>\n",
       "      <td>2</td>\n",
       "      <td>1300</td>\n",
       "      <td>233266</td>\n",
       "      <td>1950</td>\n",
       "      <td>3110.99</td>\n",
       "      <td>06037</td>\n",
       "    </tr>\n",
       "  </tbody>\n",
       "</table>\n",
       "</div>"
      ],
      "text/plain": [
       "    beds  baths  area   worth built      tax locality\n",
       "7      3      2  2077  646760  1926  7924.68    06037\n",
       "18     3      1  1244  169471  1950  2532.88    06037\n",
       "19     3      2  1300  233266  1950  3110.99    06037"
      ]
     },
     "execution_count": 29,
     "metadata": {},
     "output_type": "execute_result"
    }
   ],
   "source": [
    "df = wrangle_zillow()\n",
    "df.head(3)"
   ]
  },
  {
   "cell_type": "code",
   "execution_count": 30,
   "id": "9a658ae4",
   "metadata": {},
   "outputs": [
    {
     "data": {
      "text/plain": [
       "((1217344, 7), (304337, 7), (268532, 7))"
      ]
     },
     "execution_count": 30,
     "metadata": {},
     "output_type": "execute_result"
    }
   ],
   "source": [
    "train_validate, test = train_test_split(df, test_size=0.15, random_state=123)\n",
    "train, validate = train_test_split(train_validate, test_size=0.2, random_state=123)\n",
    "\n",
    "train.shape, validate.shape, test.shape"
   ]
  },
  {
   "cell_type": "markdown",
   "id": "c91fcec6",
   "metadata": {},
   "source": [
    "### 1. Use the functions you created above to explore your Zillow train dataset in your explore.ipynb notebook.\n",
    "\n",
    "It would be fairly simple to plug the Zillow train dataset into my functions, however, doing so makes computing time prohibitively expensive. Instead of using my functions for the 1.2 million observations, I will do two things:\n",
    "1. **Limit observations to 10% of my train dataset for exploration**\n",
    "2. **Create visualizations as I go**"
   ]
  },
  {
   "cell_type": "code",
   "execution_count": 31,
   "id": "373422ff",
   "metadata": {},
   "outputs": [
    {
     "data": {
      "text/plain": [
       "(121734, 7)"
      ]
     },
     "execution_count": 31,
     "metadata": {},
     "output_type": "execute_result"
    }
   ],
   "source": [
    "subset, d1 = train_test_split(train, train_size=0.1, random_state=123)\n",
    "subset.shape"
   ]
  },
  {
   "cell_type": "code",
   "execution_count": 32,
   "id": "a6fbb54b",
   "metadata": {
    "scrolled": false
   },
   "outputs": [],
   "source": [
    "# for col in subset.columns:\n",
    "#     if subset[col].dtype != \"O\":\n",
    "#         plt.title(col)\n",
    "#         subset[col].plot.hist()\n",
    "#         plt.show()"
   ]
  },
  {
   "cell_type": "markdown",
   "id": "9b9ced3b",
   "metadata": {},
   "source": [
    "NOTE: The above visualizations show **normal-ish distribution** on all numeric features in subset with some right skew (after reducing outliers via Inter-Quartile Rule)"
   ]
  },
  {
   "cell_type": "markdown",
   "id": "358cd3b2",
   "metadata": {},
   "source": [
    "### 2. Come up with some initial hypotheses based on your goal of predicting property value.\n",
    "1. Increasing count of beds, baths, *or* area will increase property value.\n",
    "2. Older homes have less value than newer homes\n",
    "3. A locality will have different average property value than other localities"
   ]
  },
  {
   "cell_type": "markdown",
   "id": "8efb27e8",
   "metadata": {},
   "source": [
    "### 3. Visualize all combinations of variables in some way."
   ]
  },
  {
   "cell_type": "code",
   "execution_count": 33,
   "id": "de08af35",
   "metadata": {},
   "outputs": [
    {
     "data": {
      "text/plain": [
       "<AxesSubplot:>"
      ]
     },
     "execution_count": 33,
     "metadata": {},
     "output_type": "execute_result"
    },
    {
     "data": {
      "image/png": "[encoded data removed]",
      "text/plain": [
       "<Figure size 432x288 with 2 Axes>"
      ]
     },
     "metadata": {
      "needs_background": "light"
     },
     "output_type": "display_data"
    }
   ],
   "source": [
    "sns.heatmap(subset.corr(), cmap='Greens', annot=True, vmin=0, vmax=1)"
   ]
  },
  {
   "cell_type": "markdown",
   "id": "4aaa1b1e",
   "metadata": {},
   "source": [
    "### 4. Run the appropriate statistical tests where needed."
   ]
  },
  {
   "cell_type": "code",
   "execution_count": 34,
   "id": "3ea9ee6c",
   "metadata": {},
   "outputs": [],
   "source": [
    "### Increasing count of beds, baths, or area will increase property value. ###\n",
    "## Bivariate Exploration (check positive rate) ##\n",
    "# explore.plot_variable_pairs(subset[['worth','beds','baths','area']]) -- good\n",
    "\n",
    "## Statistical Tests ##\n",
    "corr, p = stats.pearsonr(subset.worth, subset.beds) # (0.20003042023476011, 0.0)\n",
    "corr, p = stats.pearsonr(subset.worth, subset.baths) # (0.3210488914950368, 0.0)\n",
    "corr, p = stats.pearsonr(subset.worth, subset.area) # (0.41977708130943314, 0.0)"
   ]
  },
  {
   "cell_type": "markdown",
   "id": "fad7444a",
   "metadata": {},
   "source": [
    "**Beds, Baths, and Area all have positive corr and 0.0 p-value to Worth, indicating statistical correlation.**"
   ]
  },
  {
   "cell_type": "code",
   "execution_count": 35,
   "id": "681db81b",
   "metadata": {},
   "outputs": [
    {
     "data": {
      "text/plain": [
       "MannwhitneyuResult(statistic=0.0, pvalue=0.0)"
      ]
     },
     "execution_count": 35,
     "metadata": {},
     "output_type": "execute_result"
    }
   ],
   "source": [
    "### Older homes have less value than newer homes. ###\n",
    "## Create 'old' column splitting home age distribution in half ##\n",
    "# subset.built.max() # -- Newest home in subset built in 2006\n",
    "subset['age'] = 2006 - subset['built'].astype('int')\n",
    "# subset['age'].plot.hist() # -- Normal distribution with kde near 40\n",
    "subset['old'] = subset['age'] > 40\n",
    "\n",
    "## Statistical Test ##\n",
    "stats.mannwhitneyu(subset.worth, subset.old)"
   ]
  },
  {
   "cell_type": "markdown",
   "id": "b31e18e3",
   "metadata": {},
   "source": [
    "**Having a t-statistic of 0 and p-value of 0.0 here indicates no statistical difference between homes over 40 years old and homes under 40 years old.**"
   ]
  },
  {
   "cell_type": "code",
   "execution_count": 36,
   "id": "e3b65c63",
   "metadata": {},
   "outputs": [
    {
     "name": "stdout",
     "output_type": "stream",
     "text": [
      "0.9978228541158851\n",
      "0.9946209473052449\n",
      "0.9961794715655921\n"
     ]
    }
   ],
   "source": [
    "### A locality will have different average property value than other localities. ###\n",
    "## Create masks for each locality ##\n",
    "# subset.locality.unique() # -- localities are '06059', '06037', '06111'\n",
    "mask1 = subset.locality == '06059'\n",
    "mask2 = subset.locality == '06037'\n",
    "mask3 = subset.locality == '06111'\n",
    "\n",
    "## Check each locality against the total population ##\n",
    "t, p = stats.ttest_1samp(subset[mask1].worth, subset.worth)\n",
    "print(max(p))\n",
    "t, p = stats.ttest_1samp(subset[mask2].worth, subset.worth)\n",
    "print(max(p))\n",
    "t, p = stats.ttest_1samp(subset[mask3].worth, subset.worth)\n",
    "print(max(p))"
   ]
  },
  {
   "cell_type": "markdown",
   "id": "4afdafd8",
   "metadata": {},
   "source": [
    "**P-value for each locality against the total population shows that there is not a statistical difference in property value between localities.**"
   ]
  },
  {
   "cell_type": "markdown",
   "id": "2f60487c",
   "metadata": {},
   "source": [
    "### 5. What independent variables are correlated with the dependent variable, home value?"
   ]
  },
  {
   "cell_type": "code",
   "execution_count": 37,
   "id": "891ca316",
   "metadata": {},
   "outputs": [
    {
     "data": {
      "text/plain": [
       "<AxesSubplot:>"
      ]
     },
     "execution_count": 37,
     "metadata": {},
     "output_type": "execute_result"
    },
    {
     "data": {
      "image/png": "[encoded data removed]",
      "text/plain": [
       "<Figure size 432x288 with 2 Axes>"
      ]
     },
     "metadata": {
      "needs_background": "light"
     },
     "output_type": "display_data"
    }
   ],
   "source": [
    "subset.drop(columns=['age','old'], inplace=True)\n",
    "sns.heatmap(subset.corr(), cmap='Greens', annot=True, vmin=0, vmax=1)"
   ]
  },
  {
   "cell_type": "markdown",
   "id": "59c2b283",
   "metadata": {},
   "source": [
    "### 6. Which independent variables are correlated with other independent variables (bedrooms, bathrooms, year built, square feet)?\n",
    "Please see above correlation heatmap."
   ]
  },
  {
   "cell_type": "markdown",
   "id": "cede8d65",
   "metadata": {},
   "source": [
    "### 7. Make sure to document your takeaways from visualizations and statistical tests as well as the decisions you make throughout your process."
   ]
  },
  {
   "cell_type": "code",
   "execution_count": null,
   "id": "446d8e26",
   "metadata": {},
   "outputs": [],
   "source": []
  }
 ],
 "metadata": {
  "kernelspec": {
   "display_name": "Python 3 (ipykernel)",
   "language": "python",
   "name": "python3"
  },
  "language_info": {
   "codemirror_mode": {
    "name": "ipython",
    "version": 3
   },
   "file_extension": ".py",
   "mimetype": "text/x-python",
   "name": "python",
   "nbconvert_exporter": "python",
   "pygments_lexer": "ipython3",
   "version": "3.8.8"
  }
 },
 "nbformat": 4,
 "nbformat_minor": 5
}
