{
 "cells": [
  {
   "cell_type": "markdown",
   "id": "020526fa",
   "metadata": {},
   "source": [
    "# Instructions\n",
    "1. Select a dataset with a continuous target variable.\n",
    "\n",
    "2. Be sure your data is prepared (no missing values, numeric datatypes) and split into samples.\n",
    "\n",
    "3. Work through all of the steps outlined in the lesson, from setting the baseline to selected a model and evaluating the final model on your test data."
   ]
  },
  {
   "cell_type": "markdown",
   "id": "0c83ef16",
   "metadata": {},
   "source": [
    "# Import"
   ]
  },
  {
   "cell_type": "code",
   "execution_count": 1,
   "id": "f555f759",
   "metadata": {},
   "outputs": [],
   "source": [
    "import warnings\n",
    "warnings.filterwarnings('ignore')\n",
    "\n",
    "import pandas as pd\n",
    "import numpy as np\n",
    "import seaborn as sns\n",
    "import matplotlib.pyplot as plt\n",
    "\n",
    "from sklearn.metrics import mean_squared_error\n",
    "from sklearn.linear_model import LinearRegression, LassoLars, TweedieRegressor\n",
    "from sklearn.preprocessing import PolynomialFeatures\n",
    "\n",
    "from wrangle import full_zillow_wrangle\n",
    "from env import get_db_url"
   ]
  },
  {
   "cell_type": "markdown",
   "id": "d0323037",
   "metadata": {},
   "source": [
    "# Wrangle"
   ]
  },
  {
   "cell_type": "code",
   "execution_count": 2,
   "id": "f1fccb24",
   "metadata": {
    "scrolled": true
   },
   "outputs": [
    {
     "data": {
      "text/plain": [
       "(1074127, 7)"
      ]
     },
     "execution_count": 2,
     "metadata": {},
     "output_type": "execute_result"
    }
   ],
   "source": [
    "df, X_train_exp, X_train, y_train, X_validate, y_validate, X_test, y_test = full_zillow_wrangle()\n",
    "\n",
    "X_train_exp.shape"
   ]
  },
  {
   "cell_type": "code",
   "execution_count": 3,
   "id": "eda981f3",
   "metadata": {},
   "outputs": [
    {
     "data": {
      "text/html": [
       "<div>\n",
       "<style scoped>\n",
       "    .dataframe tbody tr th:only-of-type {\n",
       "        vertical-align: middle;\n",
       "    }\n",
       "\n",
       "    .dataframe tbody tr th {\n",
       "        vertical-align: top;\n",
       "    }\n",
       "\n",
       "    .dataframe thead th {\n",
       "        text-align: right;\n",
       "    }\n",
       "</style>\n",
       "<table border=\"1\" class=\"dataframe\">\n",
       "  <thead>\n",
       "    <tr style=\"text-align: right;\">\n",
       "      <th></th>\n",
       "      <th>beds</th>\n",
       "      <th>baths</th>\n",
       "      <th>area</th>\n",
       "      <th>worth</th>\n",
       "      <th>tax</th>\n",
       "      <th>beds_scaled</th>\n",
       "      <th>baths_scaled</th>\n",
       "      <th>area_scaled</th>\n",
       "      <th>worth_scaled</th>\n",
       "      <th>tax_scaled</th>\n",
       "    </tr>\n",
       "  </thead>\n",
       "  <tbody>\n",
       "    <tr>\n",
       "      <th>541039</th>\n",
       "      <td>4</td>\n",
       "      <td>2</td>\n",
       "      <td>1388</td>\n",
       "      <td>265086</td>\n",
       "      <td>3813.18</td>\n",
       "      <td>1.003939</td>\n",
       "      <td>-0.019899</td>\n",
       "      <td>-0.473020</td>\n",
       "      <td>-0.317852</td>\n",
       "      <td>-0.113488</td>\n",
       "    </tr>\n",
       "    <tr>\n",
       "      <th>202114</th>\n",
       "      <td>4</td>\n",
       "      <td>2</td>\n",
       "      <td>1980</td>\n",
       "      <td>404328</td>\n",
       "      <td>5193.06</td>\n",
       "      <td>1.003939</td>\n",
       "      <td>-0.019899</td>\n",
       "      <td>0.579697</td>\n",
       "      <td>0.386405</td>\n",
       "      <td>0.507217</td>\n",
       "    </tr>\n",
       "    <tr>\n",
       "      <th>508862</th>\n",
       "      <td>3</td>\n",
       "      <td>2</td>\n",
       "      <td>1406</td>\n",
       "      <td>374450</td>\n",
       "      <td>4734.70</td>\n",
       "      <td>-0.282528</td>\n",
       "      <td>-0.019899</td>\n",
       "      <td>-0.441012</td>\n",
       "      <td>0.235288</td>\n",
       "      <td>0.301035</td>\n",
       "    </tr>\n",
       "  </tbody>\n",
       "</table>\n",
       "</div>"
      ],
      "text/plain": [
       "        beds  baths  area   worth      tax  beds_scaled  baths_scaled  \\\n",
       "541039     4      2  1388  265086  3813.18     1.003939     -0.019899   \n",
       "202114     4      2  1980  404328  5193.06     1.003939     -0.019899   \n",
       "508862     3      2  1406  374450  4734.70    -0.282528     -0.019899   \n",
       "\n",
       "        area_scaled  worth_scaled  tax_scaled  \n",
       "541039    -0.473020     -0.317852   -0.113488  \n",
       "202114     0.579697      0.386405    0.507217  \n",
       "508862    -0.441012      0.235288    0.301035  "
      ]
     },
     "execution_count": 3,
     "metadata": {},
     "output_type": "execute_result"
    }
   ],
   "source": [
    "X_train.head(3)"
   ]
  },
  {
   "cell_type": "code",
   "execution_count": null,
   "id": "515564a0",
   "metadata": {},
   "outputs": [],
   "source": []
  }
 ],
 "metadata": {
  "kernelspec": {
   "display_name": "Python 3 (ipykernel)",
   "language": "python",
   "name": "python3"
  },
  "language_info": {
   "codemirror_mode": {
    "name": "ipython",
    "version": 3
   },
   "file_extension": ".py",
   "mimetype": "text/x-python",
   "name": "python",
   "nbconvert_exporter": "python",
   "pygments_lexer": "ipython3",
   "version": "3.8.8"
  }
 },
 "nbformat": 4,
 "nbformat_minor": 5
}
