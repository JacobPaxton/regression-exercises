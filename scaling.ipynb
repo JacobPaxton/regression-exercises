{
 "cells": [
  {
   "cell_type": "markdown",
   "id": "3aa136d3",
   "metadata": {},
   "source": [
    "Do your work for these exercises in a jupyter notebook named scaling. Use the telco dataset you acquired and prepped in previous lesson. Once you are finished, you may wish to repeat the exercises on another dataset for additional practice.\n",
    "\n",
    "# #1\n",
    "Apply the scalers we talked about in this lesson to your data and visualize the results for the unscaled and scaled distribution."
   ]
  },
  {
   "cell_type": "code",
   "execution_count": 1,
   "id": "af52c546",
   "metadata": {},
   "outputs": [],
   "source": [
    "### Imports ###\n",
    "import warnings\n",
    "warnings.filterwarnings(\"ignore\")\n",
    "\n",
    "import pandas as pd\n",
    "import seaborn as sns\n",
    "import matplotlib.pyplot as plt\n",
    "\n",
    "from sklearn.model_selection import train_test_split\n",
    "from sklearn.preprocessing import MinMaxScaler, StandardScaler, RobustScaler\n",
    "from sklearn.preprocessing import QuantileTransformer\n",
    "\n",
    "from wrangle import wrangle_zillow\n",
    "from wrangle import plot_scaled_unscaled\n",
    "from wrangle import zillow_standard_scaler"
   ]
  },
  {
   "cell_type": "code",
   "execution_count": 2,
   "id": "e48c2cac",
   "metadata": {},
   "outputs": [
    {
     "data": {
      "text/html": [
       "<div>\n",
       "<style scoped>\n",
       "    .dataframe tbody tr th:only-of-type {\n",
       "        vertical-align: middle;\n",
       "    }\n",
       "\n",
       "    .dataframe tbody tr th {\n",
       "        vertical-align: top;\n",
       "    }\n",
       "\n",
       "    .dataframe thead th {\n",
       "        text-align: right;\n",
       "    }\n",
       "</style>\n",
       "<table border=\"1\" class=\"dataframe\">\n",
       "  <thead>\n",
       "    <tr style=\"text-align: right;\">\n",
       "      <th></th>\n",
       "      <th>beds</th>\n",
       "      <th>baths</th>\n",
       "      <th>area</th>\n",
       "      <th>worth</th>\n",
       "      <th>built</th>\n",
       "      <th>tax</th>\n",
       "      <th>locality</th>\n",
       "    </tr>\n",
       "  </thead>\n",
       "  <tbody>\n",
       "    <tr>\n",
       "      <th>7</th>\n",
       "      <td>3</td>\n",
       "      <td>2</td>\n",
       "      <td>2077</td>\n",
       "      <td>646760</td>\n",
       "      <td>1926</td>\n",
       "      <td>7924.68</td>\n",
       "      <td>06037</td>\n",
       "    </tr>\n",
       "    <tr>\n",
       "      <th>18</th>\n",
       "      <td>3</td>\n",
       "      <td>1</td>\n",
       "      <td>1244</td>\n",
       "      <td>169471</td>\n",
       "      <td>1950</td>\n",
       "      <td>2532.88</td>\n",
       "      <td>06037</td>\n",
       "    </tr>\n",
       "    <tr>\n",
       "      <th>19</th>\n",
       "      <td>3</td>\n",
       "      <td>2</td>\n",
       "      <td>1300</td>\n",
       "      <td>233266</td>\n",
       "      <td>1950</td>\n",
       "      <td>3110.99</td>\n",
       "      <td>06037</td>\n",
       "    </tr>\n",
       "    <tr>\n",
       "      <th>20</th>\n",
       "      <td>3</td>\n",
       "      <td>2</td>\n",
       "      <td>1222</td>\n",
       "      <td>290492</td>\n",
       "      <td>1951</td>\n",
       "      <td>3870.25</td>\n",
       "      <td>06037</td>\n",
       "    </tr>\n",
       "    <tr>\n",
       "      <th>40</th>\n",
       "      <td>2</td>\n",
       "      <td>1</td>\n",
       "      <td>725</td>\n",
       "      <td>37548</td>\n",
       "      <td>1953</td>\n",
       "      <td>576.47</td>\n",
       "      <td>06037</td>\n",
       "    </tr>\n",
       "  </tbody>\n",
       "</table>\n",
       "</div>"
      ],
      "text/plain": [
       "    beds  baths  area   worth built      tax locality\n",
       "7      3      2  2077  646760  1926  7924.68    06037\n",
       "18     3      1  1244  169471  1950  2532.88    06037\n",
       "19     3      2  1300  233266  1950  3110.99    06037\n",
       "20     3      2  1222  290492  1951  3870.25    06037\n",
       "40     2      1   725   37548  1953   576.47    06037"
      ]
     },
     "execution_count": 2,
     "metadata": {},
     "output_type": "execute_result"
    }
   ],
   "source": [
    "### Bring in Zillow data ###\n",
    "zillow = wrangle_zillow()\n",
    "zillow.head()"
   ]
  },
  {
   "cell_type": "code",
   "execution_count": 3,
   "id": "7a7cbff4",
   "metadata": {},
   "outputs": [
    {
     "data": {
      "text/plain": [
       "((1386340, 7), (214826, 7), (189047, 7))"
      ]
     },
     "execution_count": 3,
     "metadata": {},
     "output_type": "execute_result"
    }
   ],
   "source": [
    "### Split Data ###\n",
    "train_and_validate, test = train_test_split(zillow, test_size=.12, random_state=123)\n",
    "train, validate = train_test_split(train_and_validate, test_size=.12, random_state=123)\n",
    "\n",
    "train.shape, test.shape, validate.shape"
   ]
  },
  {
   "cell_type": "code",
   "execution_count": 4,
   "id": "46eb06b7",
   "metadata": {},
   "outputs": [],
   "source": [
    "### Build Scalers ###\n",
    "minmaxscaler = MinMaxScaler()\n",
    "standardscaler = StandardScaler()\n",
    "robustscaler = RobustScaler()"
   ]
  },
  {
   "cell_type": "code",
   "execution_count": 5,
   "id": "338e71e1",
   "metadata": {},
   "outputs": [],
   "source": [
    "### Set Columns to Scale ###\n",
    "zillow.columns\n",
    "cols = ['beds', 'baths', 'area', 'worth', 'tax']"
   ]
  },
  {
   "cell_type": "code",
   "execution_count": 6,
   "id": "23934880",
   "metadata": {},
   "outputs": [
    {
     "data": {
      "text/plain": [
       "RobustScaler()"
      ]
     },
     "execution_count": 6,
     "metadata": {},
     "output_type": "execute_result"
    }
   ],
   "source": [
    "### Fit Scalers ###\n",
    "minmaxscaler.fit(train[cols])\n",
    "standardscaler.fit(train[cols])\n",
    "robustscaler.fit(train[cols])"
   ]
  },
  {
   "cell_type": "code",
   "execution_count": 7,
   "id": "387dc4d6",
   "metadata": {},
   "outputs": [],
   "source": [
    "### Transform Scaled Values to Arrays ###\n",
    "scaled_minmax = minmaxscaler.transform(train[cols])\n",
    "scaled_standard = standardscaler.transform(train[cols])\n",
    "scaled_robust = robustscaler.transform(train[cols])"
   ]
  },
  {
   "cell_type": "code",
   "execution_count": 8,
   "id": "5e222f0b",
   "metadata": {},
   "outputs": [],
   "source": [
    "### Set Scaled Column Names ###\n",
    "cols_scaled = ['beds_scaled', 'baths_scaled', 'area_scaled', 'worth_scaled', 'tax_scaled']"
   ]
  },
  {
   "cell_type": "code",
   "execution_count": 9,
   "id": "a593a238",
   "metadata": {},
   "outputs": [],
   "source": [
    "### Create New Dataframe For MinMaxScaler ###\n",
    "train_minmax = train[cols].copy()"
   ]
  },
  {
   "cell_type": "code",
   "execution_count": 10,
   "id": "efaa2ecb",
   "metadata": {},
   "outputs": [
    {
     "data": {
      "text/html": [
       "<div>\n",
       "<style scoped>\n",
       "    .dataframe tbody tr th:only-of-type {\n",
       "        vertical-align: middle;\n",
       "    }\n",
       "\n",
       "    .dataframe tbody tr th {\n",
       "        vertical-align: top;\n",
       "    }\n",
       "\n",
       "    .dataframe thead th {\n",
       "        text-align: right;\n",
       "    }\n",
       "</style>\n",
       "<table border=\"1\" class=\"dataframe\">\n",
       "  <thead>\n",
       "    <tr style=\"text-align: right;\">\n",
       "      <th></th>\n",
       "      <th>beds</th>\n",
       "      <th>baths</th>\n",
       "      <th>area</th>\n",
       "      <th>worth</th>\n",
       "      <th>tax</th>\n",
       "      <th>beds_scaled</th>\n",
       "      <th>baths_scaled</th>\n",
       "      <th>area_scaled</th>\n",
       "      <th>worth_scaled</th>\n",
       "      <th>tax_scaled</th>\n",
       "    </tr>\n",
       "  </thead>\n",
       "  <tbody>\n",
       "    <tr>\n",
       "      <th>783044</th>\n",
       "      <td>4</td>\n",
       "      <td>2</td>\n",
       "      <td>2803</td>\n",
       "      <td>104591</td>\n",
       "      <td>1479.32</td>\n",
       "      <td>0.666667</td>\n",
       "      <td>0.333333</td>\n",
       "      <td>0.821701</td>\n",
       "      <td>0.110087</td>\n",
       "      <td>0.141870</td>\n",
       "    </tr>\n",
       "    <tr>\n",
       "      <th>1083951</th>\n",
       "      <td>4</td>\n",
       "      <td>2</td>\n",
       "      <td>1505</td>\n",
       "      <td>216698</td>\n",
       "      <td>2851.41</td>\n",
       "      <td>0.666667</td>\n",
       "      <td>0.333333</td>\n",
       "      <td>0.441056</td>\n",
       "      <td>0.228109</td>\n",
       "      <td>0.275143</td>\n",
       "    </tr>\n",
       "    <tr>\n",
       "      <th>1061250</th>\n",
       "      <td>3</td>\n",
       "      <td>2</td>\n",
       "      <td>1299</td>\n",
       "      <td>65230</td>\n",
       "      <td>919.28</td>\n",
       "      <td>0.333333</td>\n",
       "      <td>0.333333</td>\n",
       "      <td>0.380645</td>\n",
       "      <td>0.068649</td>\n",
       "      <td>0.087473</td>\n",
       "    </tr>\n",
       "    <tr>\n",
       "      <th>1538638</th>\n",
       "      <td>4</td>\n",
       "      <td>2</td>\n",
       "      <td>3005</td>\n",
       "      <td>125194</td>\n",
       "      <td>1322.98</td>\n",
       "      <td>0.666667</td>\n",
       "      <td>0.333333</td>\n",
       "      <td>0.880938</td>\n",
       "      <td>0.131777</td>\n",
       "      <td>0.126685</td>\n",
       "    </tr>\n",
       "    <tr>\n",
       "      <th>1185559</th>\n",
       "      <td>3</td>\n",
       "      <td>2</td>\n",
       "      <td>1310</td>\n",
       "      <td>153604</td>\n",
       "      <td>1878.88</td>\n",
       "      <td>0.333333</td>\n",
       "      <td>0.333333</td>\n",
       "      <td>0.383871</td>\n",
       "      <td>0.161686</td>\n",
       "      <td>0.180680</td>\n",
       "    </tr>\n",
       "  </tbody>\n",
       "</table>\n",
       "</div>"
      ],
      "text/plain": [
       "         beds  baths  area   worth      tax  beds_scaled  baths_scaled  \\\n",
       "783044      4      2  2803  104591  1479.32     0.666667      0.333333   \n",
       "1083951     4      2  1505  216698  2851.41     0.666667      0.333333   \n",
       "1061250     3      2  1299   65230   919.28     0.333333      0.333333   \n",
       "1538638     4      2  3005  125194  1322.98     0.666667      0.333333   \n",
       "1185559     3      2  1310  153604  1878.88     0.333333      0.333333   \n",
       "\n",
       "         area_scaled  worth_scaled  tax_scaled  \n",
       "783044      0.821701      0.110087    0.141870  \n",
       "1083951     0.441056      0.228109    0.275143  \n",
       "1061250     0.380645      0.068649    0.087473  \n",
       "1538638     0.880938      0.131777    0.126685  \n",
       "1185559     0.383871      0.161686    0.180680  "
      ]
     },
     "execution_count": 10,
     "metadata": {},
     "output_type": "execute_result"
    }
   ],
   "source": [
    "### Assign Array To Dataframe ###\n",
    "train_minmax[cols_scaled] = scaled_minmax\n",
    "train_minmax.head()"
   ]
  },
  {
   "cell_type": "code",
   "execution_count": 11,
   "id": "c033614f",
   "metadata": {},
   "outputs": [],
   "source": [
    "### Create New Dataframe for StandardScaler ###\n",
    "train_standard = train[cols].copy()"
   ]
  },
  {
   "cell_type": "code",
   "execution_count": 12,
   "id": "c1e36be6",
   "metadata": {},
   "outputs": [
    {
     "data": {
      "text/html": [
       "<div>\n",
       "<style scoped>\n",
       "    .dataframe tbody tr th:only-of-type {\n",
       "        vertical-align: middle;\n",
       "    }\n",
       "\n",
       "    .dataframe tbody tr th {\n",
       "        vertical-align: top;\n",
       "    }\n",
       "\n",
       "    .dataframe thead th {\n",
       "        text-align: right;\n",
       "    }\n",
       "</style>\n",
       "<table border=\"1\" class=\"dataframe\">\n",
       "  <thead>\n",
       "    <tr style=\"text-align: right;\">\n",
       "      <th></th>\n",
       "      <th>beds</th>\n",
       "      <th>baths</th>\n",
       "      <th>area</th>\n",
       "      <th>worth</th>\n",
       "      <th>tax</th>\n",
       "      <th>beds_scaled</th>\n",
       "      <th>baths_scaled</th>\n",
       "      <th>area_scaled</th>\n",
       "      <th>worth_scaled</th>\n",
       "      <th>tax_scaled</th>\n",
       "    </tr>\n",
       "  </thead>\n",
       "  <tbody>\n",
       "    <tr>\n",
       "      <th>783044</th>\n",
       "      <td>4</td>\n",
       "      <td>2</td>\n",
       "      <td>2803</td>\n",
       "      <td>104591</td>\n",
       "      <td>1479.32</td>\n",
       "      <td>1.003067</td>\n",
       "      <td>-0.019015</td>\n",
       "      <td>2.043709</td>\n",
       "      <td>-1.129801</td>\n",
       "      <td>-1.163479</td>\n",
       "    </tr>\n",
       "    <tr>\n",
       "      <th>1083951</th>\n",
       "      <td>4</td>\n",
       "      <td>2</td>\n",
       "      <td>1505</td>\n",
       "      <td>216698</td>\n",
       "      <td>2851.41</td>\n",
       "      <td>1.003067</td>\n",
       "      <td>-0.019015</td>\n",
       "      <td>-0.264447</td>\n",
       "      <td>-0.562871</td>\n",
       "      <td>-0.546387</td>\n",
       "    </tr>\n",
       "    <tr>\n",
       "      <th>1061250</th>\n",
       "      <td>3</td>\n",
       "      <td>2</td>\n",
       "      <td>1299</td>\n",
       "      <td>65230</td>\n",
       "      <td>919.28</td>\n",
       "      <td>-0.282619</td>\n",
       "      <td>-0.019015</td>\n",
       "      <td>-0.630765</td>\n",
       "      <td>-1.328851</td>\n",
       "      <td>-1.415355</td>\n",
       "    </tr>\n",
       "    <tr>\n",
       "      <th>1538638</th>\n",
       "      <td>4</td>\n",
       "      <td>2</td>\n",
       "      <td>3005</td>\n",
       "      <td>125194</td>\n",
       "      <td>1322.98</td>\n",
       "      <td>1.003067</td>\n",
       "      <td>-0.019015</td>\n",
       "      <td>2.402914</td>\n",
       "      <td>-1.025611</td>\n",
       "      <td>-1.233792</td>\n",
       "    </tr>\n",
       "    <tr>\n",
       "      <th>1185559</th>\n",
       "      <td>3</td>\n",
       "      <td>2</td>\n",
       "      <td>1310</td>\n",
       "      <td>153604</td>\n",
       "      <td>1878.88</td>\n",
       "      <td>-0.282619</td>\n",
       "      <td>-0.019015</td>\n",
       "      <td>-0.611204</td>\n",
       "      <td>-0.881940</td>\n",
       "      <td>-0.983779</td>\n",
       "    </tr>\n",
       "  </tbody>\n",
       "</table>\n",
       "</div>"
      ],
      "text/plain": [
       "         beds  baths  area   worth      tax  beds_scaled  baths_scaled  \\\n",
       "783044      4      2  2803  104591  1479.32     1.003067     -0.019015   \n",
       "1083951     4      2  1505  216698  2851.41     1.003067     -0.019015   \n",
       "1061250     3      2  1299   65230   919.28    -0.282619     -0.019015   \n",
       "1538638     4      2  3005  125194  1322.98     1.003067     -0.019015   \n",
       "1185559     3      2  1310  153604  1878.88    -0.282619     -0.019015   \n",
       "\n",
       "         area_scaled  worth_scaled  tax_scaled  \n",
       "783044      2.043709     -1.129801   -1.163479  \n",
       "1083951    -0.264447     -0.562871   -0.546387  \n",
       "1061250    -0.630765     -1.328851   -1.415355  \n",
       "1538638     2.402914     -1.025611   -1.233792  \n",
       "1185559    -0.611204     -0.881940   -0.983779  "
      ]
     },
     "execution_count": 12,
     "metadata": {},
     "output_type": "execute_result"
    }
   ],
   "source": [
    "### Assign Array To Dataframe ###\n",
    "train_standard[cols_scaled] = scaled_standard\n",
    "train_standard.head()"
   ]
  },
  {
   "cell_type": "code",
   "execution_count": 13,
   "id": "812dbfe0",
   "metadata": {},
   "outputs": [],
   "source": [
    "### Create New Dataframe for RobustScaler ###\n",
    "train_robust = train[cols].copy()"
   ]
  },
  {
   "cell_type": "code",
   "execution_count": 14,
   "id": "e5067b02",
   "metadata": {},
   "outputs": [
    {
     "data": {
      "text/html": [
       "<div>\n",
       "<style scoped>\n",
       "    .dataframe tbody tr th:only-of-type {\n",
       "        vertical-align: middle;\n",
       "    }\n",
       "\n",
       "    .dataframe tbody tr th {\n",
       "        vertical-align: top;\n",
       "    }\n",
       "\n",
       "    .dataframe thead th {\n",
       "        text-align: right;\n",
       "    }\n",
       "</style>\n",
       "<table border=\"1\" class=\"dataframe\">\n",
       "  <thead>\n",
       "    <tr style=\"text-align: right;\">\n",
       "      <th></th>\n",
       "      <th>beds</th>\n",
       "      <th>baths</th>\n",
       "      <th>area</th>\n",
       "      <th>worth</th>\n",
       "      <th>tax</th>\n",
       "      <th>beds_scaled</th>\n",
       "      <th>baths_scaled</th>\n",
       "      <th>area_scaled</th>\n",
       "      <th>worth_scaled</th>\n",
       "      <th>tax_scaled</th>\n",
       "    </tr>\n",
       "  </thead>\n",
       "  <tbody>\n",
       "    <tr>\n",
       "      <th>783044</th>\n",
       "      <td>4</td>\n",
       "      <td>2</td>\n",
       "      <td>2803</td>\n",
       "      <td>104591</td>\n",
       "      <td>1479.32</td>\n",
       "      <td>1.0</td>\n",
       "      <td>0.0</td>\n",
       "      <td>1.665339</td>\n",
       "      <td>-0.695312</td>\n",
       "      <td>-0.733402</td>\n",
       "    </tr>\n",
       "    <tr>\n",
       "      <th>1083951</th>\n",
       "      <td>4</td>\n",
       "      <td>2</td>\n",
       "      <td>1505</td>\n",
       "      <td>216698</td>\n",
       "      <td>2851.41</td>\n",
       "      <td>1.0</td>\n",
       "      <td>0.0</td>\n",
       "      <td>-0.058433</td>\n",
       "      <td>-0.290898</td>\n",
       "      <td>-0.290274</td>\n",
       "    </tr>\n",
       "    <tr>\n",
       "      <th>1061250</th>\n",
       "      <td>3</td>\n",
       "      <td>2</td>\n",
       "      <td>1299</td>\n",
       "      <td>65230</td>\n",
       "      <td>919.28</td>\n",
       "      <td>0.0</td>\n",
       "      <td>0.0</td>\n",
       "      <td>-0.332005</td>\n",
       "      <td>-0.837303</td>\n",
       "      <td>-0.914271</td>\n",
       "    </tr>\n",
       "    <tr>\n",
       "      <th>1538638</th>\n",
       "      <td>4</td>\n",
       "      <td>2</td>\n",
       "      <td>3005</td>\n",
       "      <td>125194</td>\n",
       "      <td>1322.98</td>\n",
       "      <td>1.0</td>\n",
       "      <td>0.0</td>\n",
       "      <td>1.933599</td>\n",
       "      <td>-0.620989</td>\n",
       "      <td>-0.783893</td>\n",
       "    </tr>\n",
       "    <tr>\n",
       "      <th>1185559</th>\n",
       "      <td>3</td>\n",
       "      <td>2</td>\n",
       "      <td>1310</td>\n",
       "      <td>153604</td>\n",
       "      <td>1878.88</td>\n",
       "      <td>0.0</td>\n",
       "      <td>0.0</td>\n",
       "      <td>-0.317397</td>\n",
       "      <td>-0.518503</td>\n",
       "      <td>-0.604361</td>\n",
       "    </tr>\n",
       "  </tbody>\n",
       "</table>\n",
       "</div>"
      ],
      "text/plain": [
       "         beds  baths  area   worth      tax  beds_scaled  baths_scaled  \\\n",
       "783044      4      2  2803  104591  1479.32          1.0           0.0   \n",
       "1083951     4      2  1505  216698  2851.41          1.0           0.0   \n",
       "1061250     3      2  1299   65230   919.28          0.0           0.0   \n",
       "1538638     4      2  3005  125194  1322.98          1.0           0.0   \n",
       "1185559     3      2  1310  153604  1878.88          0.0           0.0   \n",
       "\n",
       "         area_scaled  worth_scaled  tax_scaled  \n",
       "783044      1.665339     -0.695312   -0.733402  \n",
       "1083951    -0.058433     -0.290898   -0.290274  \n",
       "1061250    -0.332005     -0.837303   -0.914271  \n",
       "1538638     1.933599     -0.620989   -0.783893  \n",
       "1185559    -0.317397     -0.518503   -0.604361  "
      ]
     },
     "execution_count": 14,
     "metadata": {},
     "output_type": "execute_result"
    }
   ],
   "source": [
    "### Assign Array To Dataframe ###\n",
    "train_robust[cols_scaled] = scaled_robust\n",
    "train_robust.head()"
   ]
  },
  {
   "cell_type": "code",
   "execution_count": 15,
   "id": "23d38afb",
   "metadata": {
    "scrolled": true
   },
   "outputs": [
    {
     "data": {
      "image/png": "[encoded data removed]",
      "text/plain": [
       "<Figure size 936x432 with 2 Axes>"
      ]
     },
     "metadata": {
      "needs_background": "light"
     },
     "output_type": "display_data"
    },
    {
     "data": {
      "image/png": "[encoded data removed]",
      "text/plain": [
       "<Figure size 936x432 with 2 Axes>"
      ]
     },
     "metadata": {
      "needs_background": "light"
     },
     "output_type": "display_data"
    },
    {
     "data": {
      "image/png": "[encoded data removed]",
      "text/plain": [
       "<Figure size 936x432 with 2 Axes>"
      ]
     },
     "metadata": {
      "needs_background": "light"
     },
     "output_type": "display_data"
    },
    {
     "data": {
      "image/png": "[encoded data removed]",
      "text/plain": [
       "<Figure size 936x432 with 2 Axes>"
      ]
     },
     "metadata": {
      "needs_background": "light"
     },
     "output_type": "display_data"
    },
    {
     "data": {
      "image/png": "[encoded data removed]",
      "text/plain": [
       "<Figure size 936x432 with 2 Axes>"
      ]
     },
     "metadata": {
      "needs_background": "light"
     },
     "output_type": "display_data"
    }
   ],
   "source": [
    "### Call Helper Function To Plot Scaled/Unscaled Distributions ###\n",
    "plot_scaled_unscaled(train_minmax)"
   ]
  },
  {
   "cell_type": "code",
   "execution_count": 16,
   "id": "01aa536b",
   "metadata": {},
   "outputs": [
    {
     "data": {
      "image/png": "[encoded data removed]",
      "text/plain": [
       "<Figure size 936x432 with 2 Axes>"
      ]
     },
     "metadata": {
      "needs_background": "light"
     },
     "output_type": "display_data"
    },
    {
     "data": {
      "image/png": "[encoded data removed]",
      "text/plain": [
       "<Figure size 936x432 with 2 Axes>"
      ]
     },
     "metadata": {
      "needs_background": "light"
     },
     "output_type": "display_data"
    },
    {
     "data": {
      "image/png": "[encoded data removed]",
      "text/plain": [
       "<Figure size 936x432 with 2 Axes>"
      ]
     },
     "metadata": {
      "needs_background": "light"
     },
     "output_type": "display_data"
    },
    {
     "data": {
      "image/png": "[encoded data removed]",
      "text/plain": [
       "<Figure size 936x432 with 2 Axes>"
      ]
     },
     "metadata": {
      "needs_background": "light"
     },
     "output_type": "display_data"
    },
    {
     "data": {
      "image/png": "[encoded data removed]",
      "text/plain": [
       "<Figure size 936x432 with 2 Axes>"
      ]
     },
     "metadata": {
      "needs_background": "light"
     },
     "output_type": "display_data"
    }
   ],
   "source": [
    "plot_scaled_unscaled(train_standard)"
   ]
  },
  {
   "cell_type": "code",
   "execution_count": 17,
   "id": "d39cc7d2",
   "metadata": {},
   "outputs": [
    {
     "data": {
      "image/png": "[encoded data removed]",
      "text/plain": [
       "<Figure size 936x432 with 2 Axes>"
      ]
     },
     "metadata": {
      "needs_background": "light"
     },
     "output_type": "display_data"
    },
    {
     "data": {
      "image/png": "[encoded data removed]",
      "text/plain": [
       "<Figure size 936x432 with 2 Axes>"
      ]
     },
     "metadata": {
      "needs_background": "light"
     },
     "output_type": "display_data"
    },
    {
     "data": {
      "image/png": "[encoded data removed]",
      "text/plain": [
       "<Figure size 936x432 with 2 Axes>"
      ]
     },
     "metadata": {
      "needs_background": "light"
     },
     "output_type": "display_data"
    },
    {
     "data": {
      "image/png": "[encoded data removed]",
      "text/plain": [
       "<Figure size 936x432 with 2 Axes>"
      ]
     },
     "metadata": {
      "needs_background": "light"
     },
     "output_type": "display_data"
    },
    {
     "data": {
      "image/png": "[encoded data removed]",
      "text/plain": [
       "<Figure size 936x432 with 2 Axes>"
      ]
     },
     "metadata": {
      "needs_background": "light"
     },
     "output_type": "display_data"
    }
   ],
   "source": [
    "plot_scaled_unscaled(train_robust)"
   ]
  },
  {
   "cell_type": "markdown",
   "id": "d3ce0437",
   "metadata": {},
   "source": [
    "# #2\n",
    "Apply the .inverse_transform method to your scaled data. Is the resulting dataset the exact same as the original data?"
   ]
  },
  {
   "cell_type": "code",
   "execution_count": 18,
   "id": "5978c32c",
   "metadata": {},
   "outputs": [],
   "source": [
    "### New Columns For Un-Scaled Values ###\n",
    "cols_unscaled = ['beds_unscaled', 'baths_unscaled', 'area_unscaled', \n",
    "                 'worth_unscaled', 'tax_unscaled']"
   ]
  },
  {
   "cell_type": "code",
   "execution_count": 19,
   "id": "43590623",
   "metadata": {
    "scrolled": true
   },
   "outputs": [
    {
     "data": {
      "text/html": [
       "<div>\n",
       "<style scoped>\n",
       "    .dataframe tbody tr th:only-of-type {\n",
       "        vertical-align: middle;\n",
       "    }\n",
       "\n",
       "    .dataframe tbody tr th {\n",
       "        vertical-align: top;\n",
       "    }\n",
       "\n",
       "    .dataframe thead th {\n",
       "        text-align: right;\n",
       "    }\n",
       "</style>\n",
       "<table border=\"1\" class=\"dataframe\">\n",
       "  <thead>\n",
       "    <tr style=\"text-align: right;\">\n",
       "      <th></th>\n",
       "      <th>beds</th>\n",
       "      <th>baths</th>\n",
       "      <th>area</th>\n",
       "      <th>worth</th>\n",
       "      <th>tax</th>\n",
       "      <th>beds_scaled</th>\n",
       "      <th>baths_scaled</th>\n",
       "      <th>area_scaled</th>\n",
       "      <th>worth_scaled</th>\n",
       "      <th>tax_scaled</th>\n",
       "      <th>beds_unscaled</th>\n",
       "      <th>baths_unscaled</th>\n",
       "      <th>area_unscaled</th>\n",
       "      <th>worth_unscaled</th>\n",
       "      <th>tax_unscaled</th>\n",
       "    </tr>\n",
       "  </thead>\n",
       "  <tbody>\n",
       "    <tr>\n",
       "      <th>783044</th>\n",
       "      <td>4</td>\n",
       "      <td>2</td>\n",
       "      <td>2803</td>\n",
       "      <td>104591</td>\n",
       "      <td>1479.32</td>\n",
       "      <td>0.666667</td>\n",
       "      <td>0.333333</td>\n",
       "      <td>0.821701</td>\n",
       "      <td>0.110087</td>\n",
       "      <td>0.141870</td>\n",
       "      <td>4.0</td>\n",
       "      <td>2.0</td>\n",
       "      <td>2803.0</td>\n",
       "      <td>104591.0</td>\n",
       "      <td>1479.32</td>\n",
       "    </tr>\n",
       "    <tr>\n",
       "      <th>1083951</th>\n",
       "      <td>4</td>\n",
       "      <td>2</td>\n",
       "      <td>1505</td>\n",
       "      <td>216698</td>\n",
       "      <td>2851.41</td>\n",
       "      <td>0.666667</td>\n",
       "      <td>0.333333</td>\n",
       "      <td>0.441056</td>\n",
       "      <td>0.228109</td>\n",
       "      <td>0.275143</td>\n",
       "      <td>4.0</td>\n",
       "      <td>2.0</td>\n",
       "      <td>1505.0</td>\n",
       "      <td>216698.0</td>\n",
       "      <td>2851.41</td>\n",
       "    </tr>\n",
       "    <tr>\n",
       "      <th>1061250</th>\n",
       "      <td>3</td>\n",
       "      <td>2</td>\n",
       "      <td>1299</td>\n",
       "      <td>65230</td>\n",
       "      <td>919.28</td>\n",
       "      <td>0.333333</td>\n",
       "      <td>0.333333</td>\n",
       "      <td>0.380645</td>\n",
       "      <td>0.068649</td>\n",
       "      <td>0.087473</td>\n",
       "      <td>3.0</td>\n",
       "      <td>2.0</td>\n",
       "      <td>1299.0</td>\n",
       "      <td>65230.0</td>\n",
       "      <td>919.28</td>\n",
       "    </tr>\n",
       "  </tbody>\n",
       "</table>\n",
       "</div>"
      ],
      "text/plain": [
       "         beds  baths  area   worth      tax  beds_scaled  baths_scaled  \\\n",
       "783044      4      2  2803  104591  1479.32     0.666667      0.333333   \n",
       "1083951     4      2  1505  216698  2851.41     0.666667      0.333333   \n",
       "1061250     3      2  1299   65230   919.28     0.333333      0.333333   \n",
       "\n",
       "         area_scaled  worth_scaled  tax_scaled  beds_unscaled  baths_unscaled  \\\n",
       "783044      0.821701      0.110087    0.141870            4.0             2.0   \n",
       "1083951     0.441056      0.228109    0.275143            4.0             2.0   \n",
       "1061250     0.380645      0.068649    0.087473            3.0             2.0   \n",
       "\n",
       "         area_unscaled  worth_unscaled  tax_unscaled  \n",
       "783044          2803.0        104591.0       1479.32  \n",
       "1083951         1505.0        216698.0       2851.41  \n",
       "1061250         1299.0         65230.0        919.28  "
      ]
     },
     "execution_count": 19,
     "metadata": {},
     "output_type": "execute_result"
    }
   ],
   "source": [
    "### Assign Array To Dataframe ###\n",
    "train_minmax[cols_unscaled] = minmaxscaler.inverse_transform(scaled_minmax)\n",
    "train_minmax.head(3)"
   ]
  },
  {
   "cell_type": "code",
   "execution_count": 20,
   "id": "76165241",
   "metadata": {},
   "outputs": [
    {
     "data": {
      "text/html": [
       "<div>\n",
       "<style scoped>\n",
       "    .dataframe tbody tr th:only-of-type {\n",
       "        vertical-align: middle;\n",
       "    }\n",
       "\n",
       "    .dataframe tbody tr th {\n",
       "        vertical-align: top;\n",
       "    }\n",
       "\n",
       "    .dataframe thead th {\n",
       "        text-align: right;\n",
       "    }\n",
       "</style>\n",
       "<table border=\"1\" class=\"dataframe\">\n",
       "  <thead>\n",
       "    <tr style=\"text-align: right;\">\n",
       "      <th></th>\n",
       "      <th>worth</th>\n",
       "      <th>worth_unscaled</th>\n",
       "    </tr>\n",
       "  </thead>\n",
       "  <tbody>\n",
       "    <tr>\n",
       "      <th>1537585</th>\n",
       "      <td>509154</td>\n",
       "      <td>509154.0</td>\n",
       "    </tr>\n",
       "    <tr>\n",
       "      <th>1153764</th>\n",
       "      <td>261692</td>\n",
       "      <td>261692.0</td>\n",
       "    </tr>\n",
       "    <tr>\n",
       "      <th>1770621</th>\n",
       "      <td>243504</td>\n",
       "      <td>243504.0</td>\n",
       "    </tr>\n",
       "  </tbody>\n",
       "</table>\n",
       "</div>"
      ],
      "text/plain": [
       "          worth  worth_unscaled\n",
       "1537585  509154        509154.0\n",
       "1153764  261692        261692.0\n",
       "1770621  243504        243504.0"
      ]
     },
     "execution_count": 20,
     "metadata": {},
     "output_type": "execute_result"
    }
   ],
   "source": [
    "### Check for Equal Values ###\n",
    "train_minmax[\n",
    "    train_minmax['worth_unscaled'].astype('int') \n",
    "    != \n",
    "    train_minmax['worth']][['worth','worth_unscaled']].head(3)"
   ]
  },
  {
   "cell_type": "markdown",
   "id": "117b1d32",
   "metadata": {},
   "source": [
    "Although values are marked not-equal, they appear to be near-equal."
   ]
  },
  {
   "cell_type": "code",
   "execution_count": 21,
   "id": "96e85cb5",
   "metadata": {},
   "outputs": [
    {
     "data": {
      "text/html": [
       "<div>\n",
       "<style scoped>\n",
       "    .dataframe tbody tr th:only-of-type {\n",
       "        vertical-align: middle;\n",
       "    }\n",
       "\n",
       "    .dataframe tbody tr th {\n",
       "        vertical-align: top;\n",
       "    }\n",
       "\n",
       "    .dataframe thead th {\n",
       "        text-align: right;\n",
       "    }\n",
       "</style>\n",
       "<table border=\"1\" class=\"dataframe\">\n",
       "  <thead>\n",
       "    <tr style=\"text-align: right;\">\n",
       "      <th></th>\n",
       "      <th>beds</th>\n",
       "      <th>baths</th>\n",
       "      <th>area</th>\n",
       "      <th>worth</th>\n",
       "      <th>tax</th>\n",
       "      <th>beds_scaled</th>\n",
       "      <th>baths_scaled</th>\n",
       "      <th>area_scaled</th>\n",
       "      <th>worth_scaled</th>\n",
       "      <th>tax_scaled</th>\n",
       "      <th>beds_unscaled</th>\n",
       "      <th>baths_unscaled</th>\n",
       "      <th>area_unscaled</th>\n",
       "      <th>worth_unscaled</th>\n",
       "      <th>tax_unscaled</th>\n",
       "    </tr>\n",
       "  </thead>\n",
       "  <tbody>\n",
       "    <tr>\n",
       "      <th>783044</th>\n",
       "      <td>4</td>\n",
       "      <td>2</td>\n",
       "      <td>2803</td>\n",
       "      <td>104591</td>\n",
       "      <td>1479.32</td>\n",
       "      <td>1.003067</td>\n",
       "      <td>-0.019015</td>\n",
       "      <td>2.043709</td>\n",
       "      <td>-1.129801</td>\n",
       "      <td>-1.163479</td>\n",
       "      <td>4.0</td>\n",
       "      <td>2.0</td>\n",
       "      <td>2803.0</td>\n",
       "      <td>104591.0</td>\n",
       "      <td>1479.32</td>\n",
       "    </tr>\n",
       "    <tr>\n",
       "      <th>1083951</th>\n",
       "      <td>4</td>\n",
       "      <td>2</td>\n",
       "      <td>1505</td>\n",
       "      <td>216698</td>\n",
       "      <td>2851.41</td>\n",
       "      <td>1.003067</td>\n",
       "      <td>-0.019015</td>\n",
       "      <td>-0.264447</td>\n",
       "      <td>-0.562871</td>\n",
       "      <td>-0.546387</td>\n",
       "      <td>4.0</td>\n",
       "      <td>2.0</td>\n",
       "      <td>1505.0</td>\n",
       "      <td>216698.0</td>\n",
       "      <td>2851.41</td>\n",
       "    </tr>\n",
       "    <tr>\n",
       "      <th>1061250</th>\n",
       "      <td>3</td>\n",
       "      <td>2</td>\n",
       "      <td>1299</td>\n",
       "      <td>65230</td>\n",
       "      <td>919.28</td>\n",
       "      <td>-0.282619</td>\n",
       "      <td>-0.019015</td>\n",
       "      <td>-0.630765</td>\n",
       "      <td>-1.328851</td>\n",
       "      <td>-1.415355</td>\n",
       "      <td>3.0</td>\n",
       "      <td>2.0</td>\n",
       "      <td>1299.0</td>\n",
       "      <td>65230.0</td>\n",
       "      <td>919.28</td>\n",
       "    </tr>\n",
       "  </tbody>\n",
       "</table>\n",
       "</div>"
      ],
      "text/plain": [
       "         beds  baths  area   worth      tax  beds_scaled  baths_scaled  \\\n",
       "783044      4      2  2803  104591  1479.32     1.003067     -0.019015   \n",
       "1083951     4      2  1505  216698  2851.41     1.003067     -0.019015   \n",
       "1061250     3      2  1299   65230   919.28    -0.282619     -0.019015   \n",
       "\n",
       "         area_scaled  worth_scaled  tax_scaled  beds_unscaled  baths_unscaled  \\\n",
       "783044      2.043709     -1.129801   -1.163479            4.0             2.0   \n",
       "1083951    -0.264447     -0.562871   -0.546387            4.0             2.0   \n",
       "1061250    -0.630765     -1.328851   -1.415355            3.0             2.0   \n",
       "\n",
       "         area_unscaled  worth_unscaled  tax_unscaled  \n",
       "783044          2803.0        104591.0       1479.32  \n",
       "1083951         1505.0        216698.0       2851.41  \n",
       "1061250         1299.0         65230.0        919.28  "
      ]
     },
     "execution_count": 21,
     "metadata": {},
     "output_type": "execute_result"
    }
   ],
   "source": [
    "### Assign Array To Dataframe ###\n",
    "train_standard[cols_unscaled] = standardscaler.inverse_transform(scaled_standard)\n",
    "train_standard.head(3)"
   ]
  },
  {
   "cell_type": "code",
   "execution_count": 22,
   "id": "a4d662f9",
   "metadata": {},
   "outputs": [
    {
     "data": {
      "text/html": [
       "<div>\n",
       "<style scoped>\n",
       "    .dataframe tbody tr th:only-of-type {\n",
       "        vertical-align: middle;\n",
       "    }\n",
       "\n",
       "    .dataframe tbody tr th {\n",
       "        vertical-align: top;\n",
       "    }\n",
       "\n",
       "    .dataframe thead th {\n",
       "        text-align: right;\n",
       "    }\n",
       "</style>\n",
       "<table border=\"1\" class=\"dataframe\">\n",
       "  <thead>\n",
       "    <tr style=\"text-align: right;\">\n",
       "      <th></th>\n",
       "      <th>worth</th>\n",
       "      <th>worth_unscaled</th>\n",
       "    </tr>\n",
       "  </thead>\n",
       "  <tbody>\n",
       "    <tr>\n",
       "      <th>672967</th>\n",
       "      <td>127682</td>\n",
       "      <td>127682.0</td>\n",
       "    </tr>\n",
       "    <tr>\n",
       "      <th>1234704</th>\n",
       "      <td>78780</td>\n",
       "      <td>78780.0</td>\n",
       "    </tr>\n",
       "    <tr>\n",
       "      <th>1788698</th>\n",
       "      <td>80718</td>\n",
       "      <td>80718.0</td>\n",
       "    </tr>\n",
       "  </tbody>\n",
       "</table>\n",
       "</div>"
      ],
      "text/plain": [
       "          worth  worth_unscaled\n",
       "672967   127682        127682.0\n",
       "1234704   78780         78780.0\n",
       "1788698   80718         80718.0"
      ]
     },
     "execution_count": 22,
     "metadata": {},
     "output_type": "execute_result"
    }
   ],
   "source": [
    "### Check for Equal Values ###\n",
    "train_standard[\n",
    "    train_standard['worth_unscaled'].astype('int') \n",
    "    != \n",
    "    train_standard['worth']][['worth','worth_unscaled']].head(3)"
   ]
  },
  {
   "cell_type": "code",
   "execution_count": 23,
   "id": "0aa08064",
   "metadata": {
    "scrolled": true
   },
   "outputs": [
    {
     "data": {
      "text/html": [
       "<div>\n",
       "<style scoped>\n",
       "    .dataframe tbody tr th:only-of-type {\n",
       "        vertical-align: middle;\n",
       "    }\n",
       "\n",
       "    .dataframe tbody tr th {\n",
       "        vertical-align: top;\n",
       "    }\n",
       "\n",
       "    .dataframe thead th {\n",
       "        text-align: right;\n",
       "    }\n",
       "</style>\n",
       "<table border=\"1\" class=\"dataframe\">\n",
       "  <thead>\n",
       "    <tr style=\"text-align: right;\">\n",
       "      <th></th>\n",
       "      <th>beds</th>\n",
       "      <th>baths</th>\n",
       "      <th>area</th>\n",
       "      <th>worth</th>\n",
       "      <th>tax</th>\n",
       "      <th>beds_scaled</th>\n",
       "      <th>baths_scaled</th>\n",
       "      <th>area_scaled</th>\n",
       "      <th>worth_scaled</th>\n",
       "      <th>tax_scaled</th>\n",
       "      <th>beds_unscaled</th>\n",
       "      <th>baths_unscaled</th>\n",
       "      <th>area_unscaled</th>\n",
       "      <th>worth_unscaled</th>\n",
       "      <th>tax_unscaled</th>\n",
       "    </tr>\n",
       "  </thead>\n",
       "  <tbody>\n",
       "    <tr>\n",
       "      <th>783044</th>\n",
       "      <td>4</td>\n",
       "      <td>2</td>\n",
       "      <td>2803</td>\n",
       "      <td>104591</td>\n",
       "      <td>1479.32</td>\n",
       "      <td>1.0</td>\n",
       "      <td>0.0</td>\n",
       "      <td>1.665339</td>\n",
       "      <td>-0.695312</td>\n",
       "      <td>-0.733402</td>\n",
       "      <td>4.0</td>\n",
       "      <td>2.0</td>\n",
       "      <td>2803.0</td>\n",
       "      <td>104591.0</td>\n",
       "      <td>1479.32</td>\n",
       "    </tr>\n",
       "    <tr>\n",
       "      <th>1083951</th>\n",
       "      <td>4</td>\n",
       "      <td>2</td>\n",
       "      <td>1505</td>\n",
       "      <td>216698</td>\n",
       "      <td>2851.41</td>\n",
       "      <td>1.0</td>\n",
       "      <td>0.0</td>\n",
       "      <td>-0.058433</td>\n",
       "      <td>-0.290898</td>\n",
       "      <td>-0.290274</td>\n",
       "      <td>4.0</td>\n",
       "      <td>2.0</td>\n",
       "      <td>1505.0</td>\n",
       "      <td>216698.0</td>\n",
       "      <td>2851.41</td>\n",
       "    </tr>\n",
       "    <tr>\n",
       "      <th>1061250</th>\n",
       "      <td>3</td>\n",
       "      <td>2</td>\n",
       "      <td>1299</td>\n",
       "      <td>65230</td>\n",
       "      <td>919.28</td>\n",
       "      <td>0.0</td>\n",
       "      <td>0.0</td>\n",
       "      <td>-0.332005</td>\n",
       "      <td>-0.837303</td>\n",
       "      <td>-0.914271</td>\n",
       "      <td>3.0</td>\n",
       "      <td>2.0</td>\n",
       "      <td>1299.0</td>\n",
       "      <td>65230.0</td>\n",
       "      <td>919.28</td>\n",
       "    </tr>\n",
       "  </tbody>\n",
       "</table>\n",
       "</div>"
      ],
      "text/plain": [
       "         beds  baths  area   worth      tax  beds_scaled  baths_scaled  \\\n",
       "783044      4      2  2803  104591  1479.32          1.0           0.0   \n",
       "1083951     4      2  1505  216698  2851.41          1.0           0.0   \n",
       "1061250     3      2  1299   65230   919.28          0.0           0.0   \n",
       "\n",
       "         area_scaled  worth_scaled  tax_scaled  beds_unscaled  baths_unscaled  \\\n",
       "783044      1.665339     -0.695312   -0.733402            4.0             2.0   \n",
       "1083951    -0.058433     -0.290898   -0.290274            4.0             2.0   \n",
       "1061250    -0.332005     -0.837303   -0.914271            3.0             2.0   \n",
       "\n",
       "         area_unscaled  worth_unscaled  tax_unscaled  \n",
       "783044          2803.0        104591.0       1479.32  \n",
       "1083951         1505.0        216698.0       2851.41  \n",
       "1061250         1299.0         65230.0        919.28  "
      ]
     },
     "execution_count": 23,
     "metadata": {},
     "output_type": "execute_result"
    }
   ],
   "source": [
    "### Assign Array To Dataframe ###\n",
    "train_robust[cols_unscaled] = robustscaler.inverse_transform(scaled_robust)\n",
    "train_robust.head(3)"
   ]
  },
  {
   "cell_type": "code",
   "execution_count": 24,
   "id": "c7b16cce",
   "metadata": {},
   "outputs": [
    {
     "data": {
      "text/html": [
       "<div>\n",
       "<style scoped>\n",
       "    .dataframe tbody tr th:only-of-type {\n",
       "        vertical-align: middle;\n",
       "    }\n",
       "\n",
       "    .dataframe tbody tr th {\n",
       "        vertical-align: top;\n",
       "    }\n",
       "\n",
       "    .dataframe thead th {\n",
       "        text-align: right;\n",
       "    }\n",
       "</style>\n",
       "<table border=\"1\" class=\"dataframe\">\n",
       "  <thead>\n",
       "    <tr style=\"text-align: right;\">\n",
       "      <th></th>\n",
       "      <th>worth</th>\n",
       "      <th>worth_unscaled</th>\n",
       "    </tr>\n",
       "  </thead>\n",
       "  <tbody>\n",
       "    <tr>\n",
       "      <th>1553113</th>\n",
       "      <td>138147</td>\n",
       "      <td>138147.0</td>\n",
       "    </tr>\n",
       "    <tr>\n",
       "      <th>588784</th>\n",
       "      <td>147141</td>\n",
       "      <td>147141.0</td>\n",
       "    </tr>\n",
       "    <tr>\n",
       "      <th>1061825</th>\n",
       "      <td>51726</td>\n",
       "      <td>51726.0</td>\n",
       "    </tr>\n",
       "  </tbody>\n",
       "</table>\n",
       "</div>"
      ],
      "text/plain": [
       "          worth  worth_unscaled\n",
       "1553113  138147        138147.0\n",
       "588784   147141        147141.0\n",
       "1061825   51726         51726.0"
      ]
     },
     "execution_count": 24,
     "metadata": {},
     "output_type": "execute_result"
    }
   ],
   "source": [
    "### Check for Equal Values ###\n",
    "train_robust[\n",
    "    train_robust['worth_unscaled'].astype('int') \n",
    "    != \n",
    "    train_robust['worth']][['worth','worth_unscaled']].head(3)"
   ]
  },
  {
   "cell_type": "markdown",
   "id": "e8fa18e4",
   "metadata": {},
   "source": [
    "# #3\n",
    "Read the documentation for sklearn's QuantileTransformer. Use normal for the output_distribution and apply this scaler to your data. Visualize the result of your data scaling."
   ]
  },
  {
   "cell_type": "code",
   "execution_count": 25,
   "id": "7f89eb9f",
   "metadata": {},
   "outputs": [
    {
     "data": {
      "text/html": [
       "<div>\n",
       "<style scoped>\n",
       "    .dataframe tbody tr th:only-of-type {\n",
       "        vertical-align: middle;\n",
       "    }\n",
       "\n",
       "    .dataframe tbody tr th {\n",
       "        vertical-align: top;\n",
       "    }\n",
       "\n",
       "    .dataframe thead th {\n",
       "        text-align: right;\n",
       "    }\n",
       "</style>\n",
       "<table border=\"1\" class=\"dataframe\">\n",
       "  <thead>\n",
       "    <tr style=\"text-align: right;\">\n",
       "      <th></th>\n",
       "      <th>beds</th>\n",
       "      <th>baths</th>\n",
       "      <th>area</th>\n",
       "      <th>worth</th>\n",
       "      <th>tax</th>\n",
       "      <th>beds_scaled</th>\n",
       "      <th>baths_scaled</th>\n",
       "      <th>area_scaled</th>\n",
       "      <th>worth_scaled</th>\n",
       "      <th>tax_scaled</th>\n",
       "    </tr>\n",
       "  </thead>\n",
       "  <tbody>\n",
       "    <tr>\n",
       "      <th>783044</th>\n",
       "      <td>4</td>\n",
       "      <td>2</td>\n",
       "      <td>2803</td>\n",
       "      <td>104591</td>\n",
       "      <td>1479.32</td>\n",
       "      <td>0.858910</td>\n",
       "      <td>0.006273</td>\n",
       "      <td>1.699462</td>\n",
       "      <td>-1.093216</td>\n",
       "      <td>-1.114968</td>\n",
       "    </tr>\n",
       "    <tr>\n",
       "      <th>1083951</th>\n",
       "      <td>4</td>\n",
       "      <td>2</td>\n",
       "      <td>1505</td>\n",
       "      <td>216698</td>\n",
       "      <td>2851.41</td>\n",
       "      <td>0.858910</td>\n",
       "      <td>0.006273</td>\n",
       "      <td>-0.076604</td>\n",
       "      <td>-0.437253</td>\n",
       "      <td>-0.432901</td>\n",
       "    </tr>\n",
       "    <tr>\n",
       "      <th>1061250</th>\n",
       "      <td>3</td>\n",
       "      <td>2</td>\n",
       "      <td>1299</td>\n",
       "      <td>65230</td>\n",
       "      <td>919.28</td>\n",
       "      <td>-0.217488</td>\n",
       "      <td>0.006273</td>\n",
       "      <td>-0.509202</td>\n",
       "      <td>-1.560869</td>\n",
       "      <td>-1.770198</td>\n",
       "    </tr>\n",
       "    <tr>\n",
       "      <th>1538638</th>\n",
       "      <td>4</td>\n",
       "      <td>2</td>\n",
       "      <td>3005</td>\n",
       "      <td>125194</td>\n",
       "      <td>1322.98</td>\n",
       "      <td>0.858910</td>\n",
       "      <td>0.006273</td>\n",
       "      <td>1.989631</td>\n",
       "      <td>-0.955075</td>\n",
       "      <td>-1.226341</td>\n",
       "    </tr>\n",
       "    <tr>\n",
       "      <th>1185559</th>\n",
       "      <td>3</td>\n",
       "      <td>2</td>\n",
       "      <td>1310</td>\n",
       "      <td>153604</td>\n",
       "      <td>1878.88</td>\n",
       "      <td>-0.217488</td>\n",
       "      <td>0.006273</td>\n",
       "      <td>-0.480839</td>\n",
       "      <td>-0.790219</td>\n",
       "      <td>-0.903934</td>\n",
       "    </tr>\n",
       "  </tbody>\n",
       "</table>\n",
       "</div>"
      ],
      "text/plain": [
       "         beds  baths  area   worth      tax  beds_scaled  baths_scaled  \\\n",
       "783044      4      2  2803  104591  1479.32     0.858910      0.006273   \n",
       "1083951     4      2  1505  216698  2851.41     0.858910      0.006273   \n",
       "1061250     3      2  1299   65230   919.28    -0.217488      0.006273   \n",
       "1538638     4      2  3005  125194  1322.98     0.858910      0.006273   \n",
       "1185559     3      2  1310  153604  1878.88    -0.217488      0.006273   \n",
       "\n",
       "         area_scaled  worth_scaled  tax_scaled  \n",
       "783044      1.699462     -1.093216   -1.114968  \n",
       "1083951    -0.076604     -0.437253   -0.432901  \n",
       "1061250    -0.509202     -1.560869   -1.770198  \n",
       "1538638     1.989631     -0.955075   -1.226341  \n",
       "1185559    -0.480839     -0.790219   -0.903934  "
      ]
     },
     "execution_count": 25,
     "metadata": {},
     "output_type": "execute_result"
    }
   ],
   "source": [
    "### Construct, Fit, and Transform QuantileTransformer ###\n",
    "train_QT = QuantileTransformer(output_distribution='normal')\n",
    "train_QT.fit(train[cols])\n",
    "trained_QT = train[cols].copy()\n",
    "trained_QT[cols_scaled] = train_QT.transform(train[cols])\n",
    "\n",
    "trained_QT.head()"
   ]
  },
  {
   "cell_type": "code",
   "execution_count": 26,
   "id": "81da6037",
   "metadata": {
    "scrolled": true
   },
   "outputs": [
    {
     "data": {
      "image/png": "[encoded data removed]",
      "text/plain": [
       "<Figure size 936x432 with 2 Axes>"
      ]
     },
     "metadata": {
      "needs_background": "light"
     },
     "output_type": "display_data"
    },
    {
     "data": {
      "image/png": "[encoded data removed]",
      "text/plain": [
       "<Figure size 936x432 with 2 Axes>"
      ]
     },
     "metadata": {
      "needs_background": "light"
     },
     "output_type": "display_data"
    },
    {
     "data": {
      "image/png": "[encoded data removed]",
      "text/plain": [
       "<Figure size 936x432 with 2 Axes>"
      ]
     },
     "metadata": {
      "needs_background": "light"
     },
     "output_type": "display_data"
    },
    {
     "data": {
      "image/png": "[encoded data removed]",
      "text/plain": [
       "<Figure size 936x432 with 2 Axes>"
      ]
     },
     "metadata": {
      "needs_background": "light"
     },
     "output_type": "display_data"
    },
    {
     "data": {
      "image/png": "[encoded data removed]",
      "text/plain": [
       "<Figure size 936x432 with 2 Axes>"
      ]
     },
     "metadata": {
      "needs_background": "light"
     },
     "output_type": "display_data"
    }
   ],
   "source": [
    "### Call Helper Function To Plot Scaled/Unscaled Distributions ###\n",
    "plot_scaled_unscaled(trained_QT)"
   ]
  },
  {
   "cell_type": "markdown",
   "id": "bf01b399",
   "metadata": {},
   "source": [
    "# #4\n",
    "Use the QuantileTransformer, but omit the output_distribution argument. Visualize your results. What do you notice?"
   ]
  },
  {
   "cell_type": "code",
   "execution_count": 27,
   "id": "b0306caa",
   "metadata": {
    "scrolled": true
   },
   "outputs": [
    {
     "data": {
      "text/html": [
       "<div>\n",
       "<style scoped>\n",
       "    .dataframe tbody tr th:only-of-type {\n",
       "        vertical-align: middle;\n",
       "    }\n",
       "\n",
       "    .dataframe tbody tr th {\n",
       "        vertical-align: top;\n",
       "    }\n",
       "\n",
       "    .dataframe thead th {\n",
       "        text-align: right;\n",
       "    }\n",
       "</style>\n",
       "<table border=\"1\" class=\"dataframe\">\n",
       "  <thead>\n",
       "    <tr style=\"text-align: right;\">\n",
       "      <th></th>\n",
       "      <th>beds</th>\n",
       "      <th>baths</th>\n",
       "      <th>area</th>\n",
       "      <th>worth</th>\n",
       "      <th>tax</th>\n",
       "      <th>beds_scaled</th>\n",
       "      <th>baths_scaled</th>\n",
       "      <th>area_scaled</th>\n",
       "      <th>worth_scaled</th>\n",
       "      <th>tax_scaled</th>\n",
       "    </tr>\n",
       "  </thead>\n",
       "  <tbody>\n",
       "    <tr>\n",
       "      <th>783044</th>\n",
       "      <td>4</td>\n",
       "      <td>2</td>\n",
       "      <td>2803</td>\n",
       "      <td>104591</td>\n",
       "      <td>1479.32</td>\n",
       "      <td>0.805305</td>\n",
       "      <td>0.504505</td>\n",
       "      <td>0.954733</td>\n",
       "      <td>0.137357</td>\n",
       "      <td>0.131829</td>\n",
       "    </tr>\n",
       "    <tr>\n",
       "      <th>1083951</th>\n",
       "      <td>4</td>\n",
       "      <td>2</td>\n",
       "      <td>1505</td>\n",
       "      <td>216698</td>\n",
       "      <td>2851.41</td>\n",
       "      <td>0.805305</td>\n",
       "      <td>0.504505</td>\n",
       "      <td>0.470971</td>\n",
       "      <td>0.334418</td>\n",
       "      <td>0.334728</td>\n",
       "    </tr>\n",
       "    <tr>\n",
       "      <th>1061250</th>\n",
       "      <td>3</td>\n",
       "      <td>2</td>\n",
       "      <td>1299</td>\n",
       "      <td>65230</td>\n",
       "      <td>919.28</td>\n",
       "      <td>0.413914</td>\n",
       "      <td>0.504505</td>\n",
       "      <td>0.305305</td>\n",
       "      <td>0.057745</td>\n",
       "      <td>0.038285</td>\n",
       "    </tr>\n",
       "    <tr>\n",
       "      <th>1538638</th>\n",
       "      <td>4</td>\n",
       "      <td>2</td>\n",
       "      <td>3005</td>\n",
       "      <td>125194</td>\n",
       "      <td>1322.98</td>\n",
       "      <td>0.805305</td>\n",
       "      <td>0.504505</td>\n",
       "      <td>0.976067</td>\n",
       "      <td>0.170020</td>\n",
       "      <td>0.109030</td>\n",
       "    </tr>\n",
       "    <tr>\n",
       "      <th>1185559</th>\n",
       "      <td>3</td>\n",
       "      <td>2</td>\n",
       "      <td>1310</td>\n",
       "      <td>153604</td>\n",
       "      <td>1878.88</td>\n",
       "      <td>0.413914</td>\n",
       "      <td>0.504505</td>\n",
       "      <td>0.315315</td>\n",
       "      <td>0.215459</td>\n",
       "      <td>0.182720</td>\n",
       "    </tr>\n",
       "  </tbody>\n",
       "</table>\n",
       "</div>"
      ],
      "text/plain": [
       "         beds  baths  area   worth      tax  beds_scaled  baths_scaled  \\\n",
       "783044      4      2  2803  104591  1479.32     0.805305      0.504505   \n",
       "1083951     4      2  1505  216698  2851.41     0.805305      0.504505   \n",
       "1061250     3      2  1299   65230   919.28     0.413914      0.504505   \n",
       "1538638     4      2  3005  125194  1322.98     0.805305      0.504505   \n",
       "1185559     3      2  1310  153604  1878.88     0.413914      0.504505   \n",
       "\n",
       "         area_scaled  worth_scaled  tax_scaled  \n",
       "783044      0.954733      0.137357    0.131829  \n",
       "1083951     0.470971      0.334418    0.334728  \n",
       "1061250     0.305305      0.057745    0.038285  \n",
       "1538638     0.976067      0.170020    0.109030  \n",
       "1185559     0.315315      0.215459    0.182720  "
      ]
     },
     "execution_count": 27,
     "metadata": {},
     "output_type": "execute_result"
    }
   ],
   "source": [
    "### Construct, Fit, and Transform QuantileTransformer without output_distribution ###\n",
    "train_QT = QuantileTransformer()\n",
    "train_QT.fit(train[cols])\n",
    "trained_QT = train[cols].copy()\n",
    "trained_QT[cols_scaled] = train_QT.transform(train[cols])\n",
    "\n",
    "trained_QT.head()"
   ]
  },
  {
   "cell_type": "code",
   "execution_count": 28,
   "id": "5445bc00",
   "metadata": {},
   "outputs": [
    {
     "data": {
      "image/png": "[encoded data removed]",
      "text/plain": [
       "<Figure size 936x432 with 2 Axes>"
      ]
     },
     "metadata": {
      "needs_background": "light"
     },
     "output_type": "display_data"
    },
    {
     "data": {
      "image/png": "[encoded data removed]",
      "text/plain": [
       "<Figure size 936x432 with 2 Axes>"
      ]
     },
     "metadata": {
      "needs_background": "light"
     },
     "output_type": "display_data"
    },
    {
     "data": {
      "image/png": "[encoded data removed]",
      "text/plain": [
       "<Figure size 936x432 with 2 Axes>"
      ]
     },
     "metadata": {
      "needs_background": "light"
     },
     "output_type": "display_data"
    },
    {
     "data": {
      "image/png": "[encoded data removed]",
      "text/plain": [
       "<Figure size 936x432 with 2 Axes>"
      ]
     },
     "metadata": {
      "needs_background": "light"
     },
     "output_type": "display_data"
    },
    {
     "data": {
      "image/png": "[encoded data removed]",
      "text/plain": [
       "<Figure size 936x432 with 2 Axes>"
      ]
     },
     "metadata": {
      "needs_background": "light"
     },
     "output_type": "display_data"
    }
   ],
   "source": [
    "### Call Helper Function To Plot Scaled/Unscaled Distributions ###\n",
    "plot_scaled_unscaled(trained_QT)"
   ]
  },
  {
   "cell_type": "markdown",
   "id": "d14f96cb",
   "metadata": {},
   "source": [
    "# #5\n",
    "Based on the work you've done, choose a scaling method for your dataset. Write a function within your prepare.py that accepts as input the train, validate, and test data splits, and returns the scaled versions of each. Be sure to only learn the parameters for scaling from your training data!"
   ]
  },
  {
   "cell_type": "code",
   "execution_count": 29,
   "id": "7e290746",
   "metadata": {},
   "outputs": [
    {
     "data": {
      "text/plain": [
       "((1386340, 7), (189047, 7), (214826, 7))"
      ]
     },
     "execution_count": 29,
     "metadata": {},
     "output_type": "execute_result"
    }
   ],
   "source": [
    "train.shape, validate.shape, test.shape"
   ]
  },
  {
   "cell_type": "code",
   "execution_count": 30,
   "id": "76dd8bc5",
   "metadata": {},
   "outputs": [
    {
     "data": {
      "text/plain": [
       "(1386340, 5)"
      ]
     },
     "execution_count": 30,
     "metadata": {},
     "output_type": "execute_result"
    }
   ],
   "source": [
    "train[cols].shape"
   ]
  },
  {
   "cell_type": "code",
   "execution_count": 31,
   "id": "108c0de4",
   "metadata": {},
   "outputs": [],
   "source": [
    "scaledtrain, scaledvalidate, scaledtest = zillow_standard_scaler(train, validate, test)"
   ]
  },
  {
   "cell_type": "code",
   "execution_count": 32,
   "id": "f4021ab0",
   "metadata": {},
   "outputs": [
    {
     "data": {
      "text/plain": [
       "((1386340, 10), (189047, 10), (214826, 10))"
      ]
     },
     "execution_count": 32,
     "metadata": {},
     "output_type": "execute_result"
    }
   ],
   "source": [
    "scaledtrain.shape, scaledvalidate.shape, scaledtest.shape"
   ]
  }
 ],
 "metadata": {
  "kernelspec": {
   "display_name": "Python 3 (ipykernel)",
   "language": "python",
   "name": "python3"
  },
  "language_info": {
   "codemirror_mode": {
    "name": "ipython",
    "version": 3
   },
   "file_extension": ".py",
   "mimetype": "text/x-python",
   "name": "python",
   "nbconvert_exporter": "python",
   "pygments_lexer": "ipython3",
   "version": "3.8.8"
  }
 },
 "nbformat": 4,
 "nbformat_minor": 5
}
