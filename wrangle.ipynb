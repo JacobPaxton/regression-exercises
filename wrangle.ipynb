{
 "cells": [
  {
   "cell_type": "markdown",
   "id": "be5b5f58",
   "metadata": {},
   "source": [
    "# <center>Wrangling Zillow - Intro</center>"
   ]
  },
  {
   "cell_type": "markdown",
   "id": "ab081ea0",
   "metadata": {},
   "source": [
    "### Background\n",
    "Let's set up an example scenario as perspective for our regression exercises using the Zillow dataset.\n",
    "\n",
    "As a Codeup data science graduate, you want to show off your skills to the Zillow data science team in hopes of getting an interview for a position you saw pop up on LinkedIn. You thought it might look impressive to build an end-to-end project in which you use some of their Kaggle data to predict property values using some of their available features; who knows, you might even do some feature engineering to blow them away. Your goal is to predict the values of single unit properties using the obervations from 2017.\n",
    "\n",
    "In these exercises, you will complete the first step toward the above goal: acquire and prepare the necessary Zillow data from the zillow database in the Codeup database server.\n",
    "\n",
    "### Acquire\n",
    "Acquire from the zillow database for all 'Single Family Residential' properties:\n",
    "- propertylandusetype table: \n",
    "    * propertylandusetypeid\n",
    "    * propertylandusedesc\n",
    "- properties_2017 table: \n",
    "    * propertylandusetypeid\n",
    "    * bedroomcnt\n",
    "    * bathroomcnt\n",
    "    * calculatedfinishedsquarefeet\n",
    "    * taxvaluedollarcnt\n",
    "    * yearbuilt\n",
    "    * taxamount\n",
    "    * fips\n",
    "    \n",
    "### Prepare\n",
    "Using your acquired Zillow data, walk through the summarization and cleaning steps in your wrangle.ipynb file like we did above. \n",
    "\n",
    "You may handle the missing values however you feel is appropriate and meaningful; remember to document your process and decisions using markdown and code commenting where helpful.\n",
    "\n",
    "### Compartmentalize Functions\n",
    "Store all of the necessary functions to automate your process from acquiring the data to returning a cleaned dataframe witn no missing values in your wrangle.py file. Name your final function wrangle_zillow."
   ]
  },
  {
   "cell_type": "markdown",
   "id": "2ec947d5",
   "metadata": {},
   "source": [
    "# <center>Wrangling Zillow - wrangle.py<center>"
   ]
  },
  {
   "cell_type": "code",
   "execution_count": 1,
   "id": "4aa4323d",
   "metadata": {},
   "outputs": [],
   "source": [
    "import warnings\n",
    "warnings.filterwarnings(\"ignore\")\n",
    "\n",
    "import pandas as pd\n",
    "\n",
    "from wrangle import get_zillow      # Get a fresh copy from Codeup DB or local drive\n",
    "from wrangle import wrangle_zillow  # Get a no-null no-duplicate version from fresh"
   ]
  },
  {
   "cell_type": "code",
   "execution_count": 2,
   "id": "1d8e3999",
   "metadata": {},
   "outputs": [],
   "source": [
    "zillow = wrangle_zillow()"
   ]
  },
  {
   "cell_type": "markdown",
   "id": "12735495",
   "metadata": {},
   "source": [
    "# <center>Wrangling Zillow - Investigating Further<center>"
   ]
  },
  {
   "cell_type": "markdown",
   "id": "b6dba59c",
   "metadata": {},
   "source": [
    "### Investigate columns for discrepancies"
   ]
  },
  {
   "cell_type": "code",
   "execution_count": 3,
   "id": "37e8acb4",
   "metadata": {},
   "outputs": [],
   "source": [
    "# zillow.describe().T"
   ]
  },
  {
   "cell_type": "code",
   "execution_count": 4,
   "id": "73108550",
   "metadata": {
    "scrolled": true
   },
   "outputs": [],
   "source": [
    "# zillow.taxvaluedollarcnt.sort_values()"
   ]
  },
  {
   "cell_type": "code",
   "execution_count": 5,
   "id": "deead31b",
   "metadata": {},
   "outputs": [],
   "source": [
    "# zillow[zillow.taxvaluedollarcnt == 22]"
   ]
  },
  {
   "cell_type": "markdown",
   "id": "d7af88ef",
   "metadata": {},
   "source": [
    "**Some property appraisals are very low**: Some properties having 30 sqft up to 150 sqft are appraised at 22 dollars, and have widely varying tax burdens (up to 6,000 dollars). I'm not sure what the cause of this is, but I will ignore it for now and take it into account as potential outliers."
   ]
  },
  {
   "cell_type": "code",
   "execution_count": 6,
   "id": "81e1f921",
   "metadata": {},
   "outputs": [],
   "source": [
    "# zillow[zillow.calculatedfinishedsquarefeet < 30]"
   ]
  },
  {
   "cell_type": "markdown",
   "id": "b0288024",
   "metadata": {},
   "source": [
    "**Some property sizes are very low**: Some properties have a designated 1 square foot with an appraisal value in the 7-figure range, while others having less-than-10 square feet to a property have an appraisal value in the 5 figure range. I'm not sure what the cause of this is, either."
   ]
  },
  {
   "cell_type": "code",
   "execution_count": 7,
   "id": "f9e27aef",
   "metadata": {},
   "outputs": [],
   "source": [
    "# zillow[zillow.bedroomcnt > 10]"
   ]
  },
  {
   "cell_type": "markdown",
   "id": "f46206cc",
   "metadata": {},
   "source": [
    "**Few houses have more than 10 bedrooms**: 79 observations (of over two million total observations) have more than 10 bedrooms. The 75th percentile is marked as 4 bedrooms. The high-bedroom-count outliers should be removed before statistics and modeling is done."
   ]
  },
  {
   "cell_type": "code",
   "execution_count": 8,
   "id": "a1e788ca",
   "metadata": {},
   "outputs": [],
   "source": [
    "# zillow[zillow.bathroomcnt > 10]"
   ]
  },
  {
   "cell_type": "markdown",
   "id": "6c145afb",
   "metadata": {},
   "source": [
    "**Few houses have more than 10 bathrooms**: Same story as the bedroom count, with 353 observations of homes having more than 10 bathrooms. The bathroom count's 75th percentile is 3 bathrooms."
   ]
  },
  {
   "cell_type": "markdown",
   "id": "2c4c5787",
   "metadata": {},
   "source": [
    "# <center>Wrangling Zillow - Takeaways</center>"
   ]
  },
  {
   "cell_type": "markdown",
   "id": "8b29419a",
   "metadata": {},
   "source": [
    "**Removing outliers will be valuable**: This is the regression module, and outliers are the enemy of a good regression module. There are outliers in the zillow dataset that should be removed prior to creating a model. We've so far removed rows with nulls or duplicate rows, but we must also remove outliers. I've added a function to my wrangle.py called remove_outliers that will use the IQR to remove outliers because I lack domain knowledge to remove outliers via my own discretion."
   ]
  },
  {
   "cell_type": "code",
   "execution_count": 9,
   "id": "12683d03",
   "metadata": {},
   "outputs": [
    {
     "name": "stdout",
     "output_type": "stream",
     "text": [
      "<class 'pandas.core.frame.DataFrame'>\n",
      "Int64Index: 1790213 entries, 7 to 2152853\n",
      "Data columns (total 9 columns):\n",
      " #   Column                        Dtype  \n",
      "---  ------                        -----  \n",
      " 0   bedroomcnt                    float64\n",
      " 1   bathroomcnt                   float64\n",
      " 2   calculatedfinishedsquarefeet  float64\n",
      " 3   taxvaluedollarcnt             float64\n",
      " 4   yearbuilt                     object \n",
      " 5   taxamount                     float64\n",
      " 6   fips                          object \n",
      " 7   propertylandusetypeid         float64\n",
      " 8   propertylandusedesc           object \n",
      "dtypes: float64(6), object(3)\n",
      "memory usage: 136.6+ MB\n"
     ]
    }
   ],
   "source": [
    "zillow.info()"
   ]
  },
  {
   "cell_type": "code",
   "execution_count": null,
   "id": "3f558f02",
   "metadata": {},
   "outputs": [],
   "source": []
  }
 ],
 "metadata": {
  "kernelspec": {
   "display_name": "Python 3 (ipykernel)",
   "language": "python",
   "name": "python3"
  },
  "language_info": {
   "codemirror_mode": {
    "name": "ipython",
    "version": 3
   },
   "file_extension": ".py",
   "mimetype": "text/x-python",
   "name": "python",
   "nbconvert_exporter": "python",
   "pygments_lexer": "ipython3",
   "version": "3.8.8"
  }
 },
 "nbformat": 4,
 "nbformat_minor": 5
}
